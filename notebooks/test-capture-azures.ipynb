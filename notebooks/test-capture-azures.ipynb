{
 "cells": [
  {
   "cell_type": "code",
   "execution_count": 1,
   "id": "b8cbeb0f",
   "metadata": {},
   "outputs": [],
   "source": [
    "%load_ext autoreload\n",
    "%autoreload 2"
   ]
  },
  {
   "cell_type": "code",
   "execution_count": 2,
   "id": "european-glory",
   "metadata": {
    "scrolled": true
   },
   "outputs": [],
   "source": [
    "import subprocess, cv2, json, os, sys, shutil, pyk4a, time\n",
    "import numpy as np, matplotlib.pyplot as plt\n",
    "from kinectacq.acquisition import start_recording\n",
    "from kinectacq.paths import DATA_DIR, ensure_dir"
   ]
  },
  {
   "cell_type": "markdown",
   "id": "4139f9b7",
   "metadata": {},
   "source": [
    "### Set up recording location and duration info"
   ]
  },
  {
   "cell_type": "code",
   "execution_count": 3,
   "id": "8adb4d57",
   "metadata": {},
   "outputs": [],
   "source": [
    "import datetime"
   ]
  },
  {
   "cell_type": "code",
   "execution_count": 4,
   "id": "6980bb92",
   "metadata": {},
   "outputs": [
    {
     "data": {
      "text/plain": [
       "'2022-02-16_17-22-42'"
      ]
     },
     "execution_count": 4,
     "metadata": {},
     "output_type": "execute_result"
    }
   ],
   "source": [
    "timestamp = datetime.datetime.now().strftime(\"%Y-%m-%d_%H-%M-%S\")\n",
    "timestamp"
   ]
  },
  {
   "cell_type": "code",
   "execution_count": 5,
   "id": "grand-science",
   "metadata": {},
   "outputs": [],
   "source": [
    "filename_prefix = DATA_DIR / 'test_recording' / timestamp\n",
    "recording_length = 10"
   ]
  },
  {
   "cell_type": "code",
   "execution_count": 6,
   "id": "8df4f750",
   "metadata": {},
   "outputs": [],
   "source": [
    "ensure_dir(filename_prefix)"
   ]
  },
  {
   "cell_type": "code",
   "execution_count": 7,
   "id": "d2e7a9ac",
   "metadata": {},
   "outputs": [
    {
     "data": {
      "text/plain": [
       "PosixPath('/n/groups/datta/tim_sainburg/projects/kinectacq/data/test_recording/2022-02-16_17-22-42')"
      ]
     },
     "execution_count": 7,
     "metadata": {},
     "output_type": "execute_result"
    }
   ],
   "source": [
    "filename_prefix"
   ]
  },
  {
   "cell_type": "markdown",
   "id": "5a3095af",
   "metadata": {},
   "source": [
    "### Get camera information"
   ]
  },
  {
   "cell_type": "code",
   "execution_count": 8,
   "id": "66ac841f",
   "metadata": {},
   "outputs": [
    {
     "name": "stdout",
     "output_type": "stream",
     "text": [
      "Index:0\tSerial:000774310512\tColor:1.6.102\tDepth:1.6.75\r\n"
     ]
    }
   ],
   "source": [
    "!k4arecorder --list"
   ]
  },
  {
   "cell_type": "markdown",
   "id": "e484b3f2",
   "metadata": {},
   "source": [
    "### Set up devices\n",
    "- each k4a device needs to be configured\n",
    "- multi-camera rigs need to set up the WiredSyncMode\n",
    "    - Master = WiredSyncMode.MASTER\n",
    "    - Subordinate = WiredSyncMode.SUBORDINATE\n",
    "    - subordinate_delay_off_master_usec=640 (master samples every 900usec)"
   ]
  },
  {
   "cell_type": "code",
   "execution_count": 9,
   "id": "93f997f9",
   "metadata": {},
   "outputs": [],
   "source": [
    "from pyk4a import (\n",
    "    PyK4A,\n",
    "    Config,\n",
    "    ColorResolution,\n",
    "    DepthMode,\n",
    "    WiredSyncMode,\n",
    ")"
   ]
  },
  {
   "cell_type": "code",
   "execution_count": 10,
   "id": "434b3527",
   "metadata": {},
   "outputs": [],
   "source": [
    "devices = {\n",
    "    \"master\": {\n",
    "        \"id\": 0,\n",
    "        \"pyk4a_config\": {\n",
    "            \"color_resolution\": ColorResolution.RES_720P,\n",
    "            \"depth_mode\": DepthMode.NFOV_UNBINNED,\n",
    "            \"synchronized_images_only\": False,\n",
    "            #\"wired_sync_mode\": WiredSyncMode.MASTER,\n",
    "        },\n",
    "        \"process_kwargs\": {\n",
    "            \"display_frames\": True,\n",
    "            \"display_time\": False,\n",
    "        },\n",
    "    }\n",
    "}"
   ]
  },
  {
   "cell_type": "markdown",
   "id": "fba00216",
   "metadata": {},
   "source": [
    "### Testing"
   ]
  },
  {
   "cell_type": "code",
   "execution_count": 11,
   "id": "cfb52d48",
   "metadata": {},
   "outputs": [],
   "source": [
    "from multiprocessing import Process, Queue\n",
    "from kinectacq.acquisition import capture_from_azure "
   ]
  },
  {
   "cell_type": "code",
   "execution_count": 12,
   "id": "0586317f",
   "metadata": {},
   "outputs": [],
   "source": [
    "device_name = \"master\""
   ]
  },
  {
   "cell_type": "code",
   "execution_count": 13,
   "id": "431eb00c",
   "metadata": {},
   "outputs": [
    {
     "data": {
      "text/plain": [
       "0"
      ]
     },
     "execution_count": 13,
     "metadata": {},
     "output_type": "execute_result"
    }
   ],
   "source": [
    "devices[device_name][\"id\"]"
   ]
  },
  {
   "cell_type": "code",
   "execution_count": 14,
   "id": "8e766803",
   "metadata": {},
   "outputs": [
    {
     "data": {
      "text/plain": [
       "{'color_resolution': <ColorResolution.RES_720P: 1>,\n",
       " 'depth_mode': <DepthMode.NFOV_UNBINNED: 2>,\n",
       " 'synchronized_images_only': False}"
      ]
     },
     "execution_count": 14,
     "metadata": {},
     "output_type": "execute_result"
    }
   ],
   "source": [
    "devices[device_name][\"pyk4a_config\"]"
   ]
  },
  {
   "cell_type": "code",
   "execution_count": 15,
   "id": "47df9137",
   "metadata": {},
   "outputs": [],
   "source": [
    "k4a_obj = PyK4A(\n",
    "    Config(**devices[device_name][\"pyk4a_config\"]),\n",
    "    device_id=devices[device_name][\"id\"],\n",
    ")"
   ]
  },
  {
   "cell_type": "code",
   "execution_count": 16,
   "id": "fcb13710",
   "metadata": {},
   "outputs": [
    {
     "data": {
      "text/plain": [
       "<pyk4a.pyk4a.PyK4A at 0x7f0d4c2b4a90>"
      ]
     },
     "execution_count": 16,
     "metadata": {},
     "output_type": "execute_result"
    }
   ],
   "source": [
    "k4a_obj"
   ]
  },
  {
   "cell_type": "code",
   "execution_count": 17,
   "id": "ad31e950",
   "metadata": {},
   "outputs": [],
   "source": [
    "k4a_obj.start()"
   ]
  },
  {
   "cell_type": "code",
   "execution_count": 18,
   "id": "41bf8e3b",
   "metadata": {},
   "outputs": [],
   "source": [
    "capture = k4a_obj.get_capture()"
   ]
  },
  {
   "cell_type": "code",
   "execution_count": 19,
   "id": "62378d1e",
   "metadata": {},
   "outputs": [
    {
     "data": {
      "text/plain": [
       "(576, 640)"
      ]
     },
     "execution_count": 19,
     "metadata": {},
     "output_type": "execute_result"
    }
   ],
   "source": [
    "np.shape(capture.depth)"
   ]
  },
  {
   "cell_type": "code",
   "execution_count": 20,
   "id": "1b3a568c",
   "metadata": {},
   "outputs": [
    {
     "data": {
      "text/plain": [
       "(576, 640)"
      ]
     },
     "execution_count": 20,
     "metadata": {},
     "output_type": "execute_result"
    }
   ],
   "source": [
    "np.shape(capture.ir)"
   ]
  },
  {
   "cell_type": "code",
   "execution_count": 23,
   "id": "364240a7",
   "metadata": {},
   "outputs": [
    {
     "data": {
      "text/plain": [
       "array([[0, 0, 0, ..., 0, 0, 0],\n",
       "       [0, 0, 0, ..., 0, 0, 0],\n",
       "       [0, 0, 0, ..., 0, 0, 0],\n",
       "       ...,\n",
       "       [0, 0, 0, ..., 0, 0, 0],\n",
       "       [0, 0, 0, ..., 0, 0, 0],\n",
       "       [0, 0, 0, ..., 0, 0, 0]], dtype=uint16)"
      ]
     },
     "execution_count": 23,
     "metadata": {},
     "output_type": "execute_result"
    }
   ],
   "source": [
    "capture.depth"
   ]
  },
  {
   "cell_type": "code",
   "execution_count": 22,
   "id": "4c96facd",
   "metadata": {
    "scrolled": true
   },
   "outputs": [
    {
     "data": {
      "text/plain": [
       "array([[0, 0, 0, ..., 0, 0, 0],\n",
       "       [0, 0, 0, ..., 0, 0, 0],\n",
       "       [0, 0, 0, ..., 0, 0, 0],\n",
       "       ...,\n",
       "       [0, 0, 0, ..., 0, 0, 0],\n",
       "       [0, 0, 0, ..., 0, 0, 0],\n",
       "       [0, 0, 0, ..., 0, 0, 0]], dtype=uint16)"
      ]
     },
     "execution_count": 22,
     "metadata": {},
     "output_type": "execute_result"
    }
   ],
   "source": [
    "capture.ir"
   ]
  },
  {
   "cell_type": "code",
   "execution_count": 21,
   "id": "bebd6c1a",
   "metadata": {},
   "outputs": [
    {
     "data": {
      "text/plain": [
       "<matplotlib.image.AxesImage at 0x7f0d0d225fd0>"
      ]
     },
     "execution_count": 21,
     "metadata": {},
     "output_type": "execute_result"
    },
    {
     "data": {
      "image/png": "[encoded data removed]",
      "text/plain": [
       "<Figure size 432x288 with 2 Axes>"
      ]
     },
     "metadata": {
      "needs_background": "light"
     },
     "output_type": "display_data"
    }
   ],
   "source": [
    "fig, (ax1, ax2) = plt.subplots(ncols=2)\n",
    "ax1.matshow(np.log(capture.ir+1))\n",
    "ax2.matshow(np.log(capture.depth+1))"
   ]
  },
  {
   "cell_type": "code",
   "execution_count": 23,
   "id": "dfd289d0",
   "metadata": {
    "scrolled": true
   },
   "outputs": [
    {
     "data": {
      "text/plain": [
       "(array([2.36163e+05, 1.09340e+04, 4.36300e+03, 6.88610e+04, 3.45330e+04,\n",
       "        5.30300e+03, 6.12700e+03, 1.47100e+03, 8.83000e+02, 2.00000e+00]),\n",
       " array([   0. ,  660.5, 1321. , 1981.5, 2642. , 3302.5, 3963. , 4623.5,\n",
       "        5284. , 5944.5, 6605. ]),\n",
       " <BarContainer object of 10 artists>)"
      ]
     },
     "execution_count": 23,
     "metadata": {},
     "output_type": "execute_result"
    },
    {
     "data": {
      "image/png": "[encoded data removed]",
      "text/plain": [
       "<Figure size 432x288 with 1 Axes>"
      ]
     },
     "metadata": {
      "needs_background": "light"
     },
     "output_type": "display_data"
    }
   ],
   "source": [
    "plt.hist(capture.depth.flatten())"
   ]
  },
  {
   "cell_type": "code",
   "execution_count": 24,
   "id": "e8799d11",
   "metadata": {},
   "outputs": [],
   "source": [
    "depth = capture.depth"
   ]
  },
  {
   "cell_type": "code",
   "execution_count": 25,
   "id": "499e347c",
   "metadata": {},
   "outputs": [],
   "source": [
    "depth_pipe = None"
   ]
  },
  {
   "cell_type": "code",
   "execution_count": 26,
   "id": "2a03f164",
   "metadata": {},
   "outputs": [],
   "source": [
    "from kinectacq.video_io import write_frames  "
   ]
  },
  {
   "cell_type": "code",
   "execution_count": 27,
   "id": "4d30e400",
   "metadata": {},
   "outputs": [
    {
     "name": "stdout",
     "output_type": "stream",
     "text": [
      "ls: cannot access '/home/tim/Projects/azure_acquisition_template/data/test_recording/2022-02-07_14-24-15': No such file or directory\r\n"
     ]
    }
   ],
   "source": [
    "!ls /home/tim/Projects/azure_acquisition_template/data/test_recording/2022-02-07_14-24-15"
   ]
  },
  {
   "cell_type": "code",
   "execution_count": 31,
   "id": "34af936f",
   "metadata": {},
   "outputs": [
    {
     "data": {
      "text/plain": [
       "<subprocess.Popen at 0x7f39692828e0>"
      ]
     },
     "execution_count": 31,
     "metadata": {},
     "output_type": "execute_result"
    }
   ],
   "source": [
    "write_frames(\n",
    "    filename_prefix / \"test.depth.avi\",\n",
    "    depth.astype(np.uint8)[None, :, :],\n",
    "    codec=\"ffv1\",\n",
    "    close_pipe=False,\n",
    "    pipe=depth_pipe,\n",
    ")"
   ]
  },
  {
   "cell_type": "code",
   "execution_count": 28,
   "id": "526ab55b",
   "metadata": {},
   "outputs": [],
   "source": [
    "k4a_obj.stop()"
   ]
  },
  {
   "cell_type": "code",
   "execution_count": null,
   "id": "79181abe",
   "metadata": {},
   "outputs": [],
   "source": []
  }
 ],
 "metadata": {
  "kernelspec": {
   "display_name": "kinect_acquisition",
   "language": "python",
   "name": "kinect_acquisition"
  },
  "language_info": {
   "codemirror_mode": {
    "name": "ipython",
    "version": 3
   },
   "file_extension": ".py",
   "mimetype": "text/x-python",
   "name": "python",
   "nbconvert_exporter": "python",
   "pygments_lexer": "ipython3",
   "version": "3.8.12"
  }
 },
 "nbformat": 4,
 "nbformat_minor": 5
}
