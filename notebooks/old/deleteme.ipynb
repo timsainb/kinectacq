{
 "cells": [
  {
   "cell_type": "code",
   "execution_count": 1,
   "id": "c2179219",
   "metadata": {},
   "outputs": [],
   "source": [
    "import datetime, subprocess, numpy as np, cv2, time, sys\n",
    "from multiprocessing import Process, Queue\n",
    "from pyk4a import *"
   ]
  },
  {
   "cell_type": "code",
   "execution_count": 2,
   "id": "f69fc24e",
   "metadata": {},
   "outputs": [],
   "source": [
    "bottom_device_id = 0"
   ]
  },
  {
   "cell_type": "code",
   "execution_count": 3,
   "id": "693baa86",
   "metadata": {},
   "outputs": [
    {
     "name": "stdout",
     "output_type": "stream",
     "text": [
      "Index:0\tSerial:000779510512\tColor:1.6.110\tDepth:1.6.79\r\n"
     ]
    }
   ],
   "source": [
    "!k4arecorder --list"
   ]
  },
  {
   "cell_type": "code",
   "execution_count": 4,
   "id": "2b0e5e16",
   "metadata": {},
   "outputs": [],
   "source": [
    "k4a_bottom = PyK4A(Config(color_resolution=ColorResolution.RES_720P,\n",
    "                      depth_mode=DepthMode.NFOV_UNBINNED,\n",
    "                      synchronized_images_only=False,\n",
    "                      #wired_sync_mode=WiredSyncMode.MASTER\n",
    "                         ), device_id=bottom_device_id)\n"
   ]
  },
  {
   "cell_type": "code",
   "execution_count": 5,
   "id": "791b3b89",
   "metadata": {
    "scrolled": true
   },
   "outputs": [],
   "source": [
    "k4a_bottom.start()"
   ]
  },
  {
   "cell_type": "code",
   "execution_count": 6,
   "id": "70b0f79b",
   "metadata": {},
   "outputs": [],
   "source": [
    "k4a_bottom.stop()"
   ]
  },
  {
   "cell_type": "code",
   "execution_count": null,
   "id": "201e9c9b",
   "metadata": {},
   "outputs": [],
   "source": []
  }
 ],
 "metadata": {
  "kernelspec": {
   "display_name": "kinect_acquisition",
   "language": "python",
   "name": "kinect_acquisition"
  },
  "language_info": {
   "codemirror_mode": {
    "name": "ipython",
    "version": 3
   },
   "file_extension": ".py",
   "mimetype": "text/x-python",
   "name": "python",
   "nbconvert_exporter": "python",
   "pygments_lexer": "ipython3",
   "version": "3.8.12"
  }
 },
 "nbformat": 4,
 "nbformat_minor": 5
}
