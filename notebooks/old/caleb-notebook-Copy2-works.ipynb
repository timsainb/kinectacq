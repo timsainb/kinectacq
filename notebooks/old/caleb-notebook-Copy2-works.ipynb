{
 "cells": [
  {
   "cell_type": "code",
   "execution_count": 1,
   "id": "b8cbeb0f",
   "metadata": {},
   "outputs": [],
   "source": [
    "%load_ext autoreload\n",
    "%autoreload 2"
   ]
  },
  {
   "cell_type": "code",
   "execution_count": 2,
   "id": "european-glory",
   "metadata": {
    "scrolled": true
   },
   "outputs": [],
   "source": [
    "import subprocess, cv2, json, os, sys, shutil, pyk4a, time\n",
    "import numpy as np, matplotlib.pyplot as plt\n",
    "from kinectacq.acquisition import start_recording\n",
    "from kinectacq.paths import DATA_DIR, ensure_dir"
   ]
  },
  {
   "cell_type": "markdown",
   "id": "4139f9b7",
   "metadata": {},
   "source": [
    "### Set up recording location and duration info"
   ]
  },
  {
   "cell_type": "code",
   "execution_count": 3,
   "id": "8adb4d57",
   "metadata": {},
   "outputs": [],
   "source": [
    "import datetime"
   ]
  },
  {
   "cell_type": "code",
   "execution_count": 4,
   "id": "6980bb92",
   "metadata": {},
   "outputs": [
    {
     "data": {
      "text/plain": [
       "'2022-02-17_16-50-14'"
      ]
     },
     "execution_count": 4,
     "metadata": {},
     "output_type": "execute_result"
    }
   ],
   "source": [
    "timestamp = datetime.datetime.now().strftime(\"%Y-%m-%d_%H-%M-%S\")\n",
    "timestamp"
   ]
  },
  {
   "cell_type": "code",
   "execution_count": 5,
   "id": "grand-science",
   "metadata": {},
   "outputs": [],
   "source": [
    "filename_prefix = DATA_DIR / 'test_recording' / timestamp\n",
    "recording_length = 10"
   ]
  },
  {
   "cell_type": "code",
   "execution_count": 6,
   "id": "8df4f750",
   "metadata": {},
   "outputs": [],
   "source": [
    "ensure_dir(filename_prefix)"
   ]
  },
  {
   "cell_type": "code",
   "execution_count": 7,
   "id": "d2e7a9ac",
   "metadata": {},
   "outputs": [
    {
     "data": {
      "text/plain": [
       "PosixPath('/n/groups/datta/tim_sainburg/projects/kinectacq/data/test_recording/2022-02-17_16-50-14')"
      ]
     },
     "execution_count": 7,
     "metadata": {},
     "output_type": "execute_result"
    }
   ],
   "source": [
    "filename_prefix"
   ]
  },
  {
   "cell_type": "markdown",
   "id": "5a3095af",
   "metadata": {},
   "source": [
    "### Get camera information"
   ]
  },
  {
   "cell_type": "code",
   "execution_count": 8,
   "id": "66ac841f",
   "metadata": {},
   "outputs": [
    {
     "name": "stdout",
     "output_type": "stream",
     "text": [
      "Index:0\tSerial:000774310512\tColor:1.6.102\tDepth:1.6.75\n",
      "Index:1\tSerial:000261501812\tColor:1.6.108\tDepth:1.6.79\n"
     ]
    }
   ],
   "source": [
    "!k4arecorder --list"
   ]
  },
  {
   "cell_type": "code",
   "execution_count": 9,
   "id": "ae933fd5",
   "metadata": {},
   "outputs": [],
   "source": [
    "import datetime, subprocess, numpy as np, cv2, time, sys\n",
    "from multiprocessing import Process, Queue\n",
    "from pyk4a import *\n",
    "\n",
    "\n",
    "def capture_from_azure(k4a, filename_prefix):\n",
    "        \n",
    "    k4a.start()\n",
    "    \n",
    "    \n",
    "    print('started: {}'.format(filename_prefix.split('.')[-1]))\n",
    "    k4a.stop()"
   ]
  },
  {
   "cell_type": "code",
   "execution_count": 10,
   "id": "a2035a5f",
   "metadata": {},
   "outputs": [],
   "source": [
    "filename_prefix = 'data/222_2_2_GRIN61_MeA8A_training'\n",
    "recording_length = 10\n",
    "\n",
    "filename_prefix += '.rig2'"
   ]
  },
  {
   "cell_type": "code",
   "execution_count": 11,
   "id": "8f900931",
   "metadata": {},
   "outputs": [],
   "source": [
    "ensure_dir(filename_prefix)"
   ]
  },
  {
   "cell_type": "code",
   "execution_count": 12,
   "id": "270580bc",
   "metadata": {},
   "outputs": [],
   "source": [
    "devices = {\n",
    "    \"master\": {\n",
    "        \"id\": 0,\n",
    "        \"pyk4a_config\": {\n",
    "            \"color_resolution\": ColorResolution.RES_720P,\n",
    "            \"depth_mode\": DepthMode.NFOV_UNBINNED,\n",
    "            #\"synchronized_images_only\": False,\n",
    "            \"wired_sync_mode\": WiredSyncMode.MASTER,\n",
    "        },\n",
    "        \"process_kwargs\": {\n",
    "            \"display_frames\": True,\n",
    "            \"display_time\": False,\n",
    "        },\n",
    "    },\n",
    "    \"subordinate\": {\n",
    "        \"id\": 1,\n",
    "        \"pyk4a_config\": {\n",
    "            \"color_resolution\": ColorResolution.RES_720P,\n",
    "            \"depth_mode\": DepthMode.NFOV_UNBINNED,\n",
    "            #\"synchronized_images_only\": False,\n",
    "            \"wired_sync_mode\": WiredSyncMode.SUBORDINATE,\n",
    "        },\n",
    "        \"process_kwargs\": {\n",
    "            \"display_frames\": False,\n",
    "            \"display_time\": False,\n",
    "        },\n",
    "    }\n",
    "}"
   ]
  },
  {
   "cell_type": "code",
   "execution_count": 13,
   "id": "89e7b1d9",
   "metadata": {},
   "outputs": [],
   "source": [
    "process_list = []\n",
    "for device_name in devices:\n",
    "\n",
    "    # Create a k4a object referencing master\n",
    "    k4a_obj = PyK4A(\n",
    "        Config(**devices[device_name][\"pyk4a_config\"]),\n",
    "        device_id=devices[device_name][\"id\"],\n",
    "    )\n",
    "    # create a subprocess to run acqusition with that camera\n",
    "    process_list.append(\n",
    "        Process(\n",
    "            target=capture_from_azure,\n",
    "            args=(\n",
    "                k4a_obj,\n",
    "                filename_prefix + '.{}'.format(device_name),\n",
    "            ),\n",
    "        )\n",
    "    )"
   ]
  },
  {
   "cell_type": "code",
   "execution_count": 14,
   "id": "8886a41e",
   "metadata": {},
   "outputs": [
    {
     "name": "stdout",
     "output_type": "stream",
     "text": [
      "started: master\n",
      "started: subordinate\n"
     ]
    }
   ],
   "source": [
    "for p in process_list:\n",
    "    p.start()"
   ]
  },
  {
   "cell_type": "code",
   "execution_count": null,
   "id": "40977394",
   "metadata": {},
   "outputs": [],
   "source": []
  }
 ],
 "metadata": {
  "kernelspec": {
   "display_name": "kinect_acquisition",
   "language": "python",
   "name": "kinect_acquisition"
  },
  "language_info": {
   "codemirror_mode": {
    "name": "ipython",
    "version": 3
   },
   "file_extension": ".py",
   "mimetype": "text/x-python",
   "name": "python",
   "nbconvert_exporter": "python",
   "pygments_lexer": "ipython3",
   "version": "3.8.12"
  }
 },
 "nbformat": 4,
 "nbformat_minor": 5
}
