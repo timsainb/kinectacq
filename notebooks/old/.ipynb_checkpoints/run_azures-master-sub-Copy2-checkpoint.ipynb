{
 "cells": [
  {
   "cell_type": "code",
   "execution_count": 1,
   "id": "e0a25001",
   "metadata": {},
   "outputs": [],
   "source": [
    "%load_ext autoreload\n",
    "%autoreload 2"
   ]
  },
  {
   "cell_type": "code",
   "execution_count": 2,
   "id": "european-glory",
   "metadata": {
    "scrolled": true
   },
   "outputs": [],
   "source": [
    "import subprocess, cv2, json, os, sys, shutil, pyk4a, time\n",
    "import numpy as np, matplotlib.pyplot as plt\n",
    "from kinectacq.acquisition import start_recording\n",
    "from kinectacq.paths import DATA_DIR, ensure_dir"
   ]
  },
  {
   "cell_type": "markdown",
   "id": "e904a716",
   "metadata": {},
   "source": [
    "### Set up recording location"
   ]
  },
  {
   "cell_type": "code",
   "execution_count": 3,
   "id": "3f7292ba",
   "metadata": {},
   "outputs": [],
   "source": [
    "import datetime"
   ]
  },
  {
   "cell_type": "code",
   "execution_count": 4,
   "id": "b011984c",
   "metadata": {},
   "outputs": [
    {
     "data": {
      "text/plain": [
       "'2022-02-17_16-44-31'"
      ]
     },
     "execution_count": 4,
     "metadata": {},
     "output_type": "execute_result"
    }
   ],
   "source": [
    "timestamp = datetime.datetime.now().strftime(\"%Y-%m-%d_%H-%M-%S\")\n",
    "timestamp"
   ]
  },
  {
   "cell_type": "code",
   "execution_count": 5,
   "id": "grand-science",
   "metadata": {},
   "outputs": [],
   "source": [
    "filename_prefix = DATA_DIR / 'test_recording' / timestamp"
   ]
  },
  {
   "cell_type": "code",
   "execution_count": 6,
   "id": "8eac8001",
   "metadata": {},
   "outputs": [],
   "source": [
    "ensure_dir(filename_prefix)"
   ]
  },
  {
   "cell_type": "markdown",
   "id": "4f74ead2",
   "metadata": {},
   "source": [
    "### Get camera information"
   ]
  },
  {
   "cell_type": "code",
   "execution_count": 7,
   "id": "66ac841f",
   "metadata": {},
   "outputs": [
    {
     "name": "stdout",
     "output_type": "stream",
     "text": [
      "Index:0\tSerial:000774310512\tColor:1.6.102\tDepth:1.6.75\n",
      "Index:1\tSerial:000261501812\tColor:1.6.108\tDepth:1.6.79\n"
     ]
    }
   ],
   "source": [
    "!k4arecorder --list"
   ]
  },
  {
   "cell_type": "markdown",
   "id": "2f769d00",
   "metadata": {},
   "source": [
    "### Set up devices\n",
    "- each k4a device needs to be configured\n",
    "- multi-camera rigs need to set up the WiredSyncMode\n",
    "    - Master = WiredSyncMode.MASTER\n",
    "    - Subordinate = WiredSyncMode.SUBORDINATE\n",
    "    - subordinate_delay_off_master_usec=640 (master samples every 900usec)\n",
    "- [Kinect SDK](https://microsoft.github.io/Azure-Kinect-Sensor-SDK/master/structk4a__device__configuration__t_a8208974f05d89fc1362c6a0900bdef4d.html#a8208974f05d89fc1362c6a0900bdef4d)"
   ]
  },
  {
   "cell_type": "code",
   "execution_count": 8,
   "id": "7193c1cb",
   "metadata": {},
   "outputs": [],
   "source": [
    "from pyk4a import (\n",
    "    PyK4A,\n",
    "    Config,\n",
    "    ColorResolution,\n",
    "    DepthMode,\n",
    "    WiredSyncMode,\n",
    ")"
   ]
  },
  {
   "cell_type": "code",
   "execution_count": 9,
   "id": "1f8af944",
   "metadata": {},
   "outputs": [],
   "source": [
    "devices = {\n",
    "    \"master\": {\n",
    "        \"id\": 0,\n",
    "        \"pyk4a_config\": {\n",
    "            \"color_resolution\": ColorResolution.RES_720P,\n",
    "            \"depth_mode\": DepthMode.NFOV_UNBINNED,\n",
    "            \"synchronized_images_only\": False,\n",
    "            \"wired_sync_mode\": WiredSyncMode.MASTER,\n",
    "        },\n",
    "        \"process_kwargs\": {\n",
    "            \"display_frames\": True,\n",
    "            \"display_time\": False,\n",
    "        },\n",
    "    },\n",
    "    \"subordinate\": {\n",
    "        \"id\": 1,\n",
    "        \"pyk4a_config\": {\n",
    "            \"color_resolution\": ColorResolution.OFF,\n",
    "            \"depth_mode\": DepthMode.NFOV_UNBINNED,\n",
    "            \"synchronized_images_only\": False,\n",
    "            \"wired_sync_mode\": WiredSyncMode.SUBORDINATE,\n",
    "            \"subordinate_delay_off_master_usec\" : 640\n",
    "        },\n",
    "        \"process_kwargs\": {\n",
    "            \"display_frames\": False,\n",
    "            \"display_time\": True,\n",
    "        },\n",
    "    }\n",
    "}"
   ]
  },
  {
   "cell_type": "markdown",
   "id": "ba78861f",
   "metadata": {},
   "source": [
    "### Set up processing functions\n",
    "- Functions for reducing video file sizes to 8 bit. "
   ]
  },
  {
   "cell_type": "code",
   "execution_count": 10,
   "id": "befca532",
   "metadata": {},
   "outputs": [],
   "source": [
    "ir_depth_dtype = np.uint16"
   ]
  },
  {
   "cell_type": "code",
   "execution_count": 11,
   "id": "625d9363",
   "metadata": {},
   "outputs": [],
   "source": [
    "def process_depth(depth):\n",
    "    #return np.clip((depth - 435) * (depth < 690), 0, 255).astype(_dtype)\n",
    "    return depth.astype(ir_depth_dtype)\n",
    "def process_ir(ir):\n",
    "    #ir = np.clip(ir + 100, 160, 5500)\n",
    "    #return ((np.log(ir) - 5) * 70).astype(_dtype)\n",
    "    return ir.astype(ir_depth_dtype)"
   ]
  },
  {
   "cell_type": "markdown",
   "id": "a8526336",
   "metadata": {},
   "source": [
    "### Recording parameters"
   ]
  },
  {
   "cell_type": "code",
   "execution_count": 12,
   "id": "4e8f0946",
   "metadata": {},
   "outputs": [],
   "source": [
    "ir_depth_write_frames_kwargs={\n",
    "        \"codec\": \"ffv1\", #\"ffv1\",\n",
    "        \"crf\": 14,\n",
    "        \"threads\": 6,\n",
    "        \"fps\": 30,\n",
    "        \"slices\": 24,\n",
    "        \"slicecrc\": 1,\n",
    "        \"frame_size\": None,\n",
    "        \"get_cmd\": False,\n",
    "    }"
   ]
  },
  {
   "cell_type": "code",
   "execution_count": 13,
   "id": "8a104ef0",
   "metadata": {},
   "outputs": [],
   "source": [
    "color_write_frames_kwargs={\n",
    "        \"codec\": \"ffv1\", #\"h264\",\n",
    "        \"crf\": 22,\n",
    "        \"threads\": 6,\n",
    "        \"fps\": 30,\n",
    "        \"slices\": 24,\n",
    "        \"slicecrc\": 1,\n",
    "        \"frame_size\": None,\n",
    "        \"get_cmd\": False,\n",
    "    }"
   ]
  },
  {
   "cell_type": "code",
   "execution_count": 14,
   "id": "e12dadf8",
   "metadata": {},
   "outputs": [],
   "source": [
    "recording_duration = 5"
   ]
  },
  {
   "cell_type": "markdown",
   "id": "844291d0",
   "metadata": {},
   "source": [
    "### Run recording"
   ]
  },
  {
   "cell_type": "code",
   "execution_count": 15,
   "id": "5119e99b",
   "metadata": {},
   "outputs": [],
   "source": [
    "import datetime, subprocess, numpy as np, time, sys\n",
    "from multiprocessing import Process, Queue\n",
    "\n",
    "from pyk4a import (\n",
    "    PyK4A,\n",
    "    Config,\n",
    "    ColorResolution,\n",
    "    DepthMode,\n",
    "    WiredSyncMode,\n",
    ")\n"
   ]
  },
  {
   "cell_type": "code",
   "execution_count": 16,
   "id": "cba747cf",
   "metadata": {},
   "outputs": [],
   "source": [
    "\n",
    "from kinectacq.video_io import write_images\n",
    "from kinectacq.visualization import display_images\n",
    "from kinectacq.paths import ensure_dir\n"
   ]
  },
  {
   "cell_type": "code",
   "execution_count": 17,
   "id": "f5dda6cd",
   "metadata": {},
   "outputs": [],
   "source": [
    "def capture_from_azure(\n",
    "    k4a,\n",
    "    filename_prefix,\n",
    "    recording_duration,\n",
    "    save_color=False,\n",
    "    display_frames=False,\n",
    "    display_time=False,\n",
    "    depth_function=None,\n",
    "    ir_function=None,\n",
    "    color_function=None,\n",
    "    display_resolution_downsample=2,\n",
    "    display_frequency=2,\n",
    "    display_time_frequency=15,\n",
    "    ir_depth_dtype=np.uint8,\n",
    "    ir_depth_write_frames_kwargs={},\n",
    "    color_write_frames_kwargs={},\n",
    "):\n",
    "    \"\"\"Continuously captures data from Azure Kinect camera and writes to frames.\n",
    "\n",
    "\n",
    "    Args:\n",
    "        k4a (k4a object): Camera K4A object\n",
    "        filename_prefix (pathlib2.path): File storage location\n",
    "        recording_duration (float): [recording duration (seconds)]\n",
    "        save_color (bool, optional): Whether to save the color data. Defaults to False.\n",
    "        display_frames (bool, optional): Whether to display frames. Defaults to False.\n",
    "        display_time (bool, optional): Whether to output time. Defaults to False.\n",
    "        depth_function (function, optional): Filtering/processing function for depth data. Defaults to None.\n",
    "        ir_function (function, optional): Filtering/processing function for ir data. Defaults to None.\n",
    "        color_function (function, optional): Filtering/processing function for color data. Defaults to None.\n",
    "        display_resolution_downsample (int, optional): How much to downsample display resolution. Defaults to 2\n",
    "        display_frequency (int, optional): How frequently to display frames. Defaults to 2\n",
    "        display_time_frequency (int, optional): How frequently to display time. Defaults to 15\n",
    "    \"\"\"\n",
    "\n",
    "    print(filename_prefix.stem, \"capture_from_azure\\n\")\n",
    "\n",
    "    # initialize K4A object\n",
    "    k4a.start()\n",
    "\n",
    "    print(filename_prefix.stem, \"capture_from_azure initialized\\n\")\n",
    "\n",
    "    # keep a list of timestamps\n",
    "    system_timestamps = []\n",
    "    device_timestamps = []\n",
    "    start_time = time.time()\n",
    "    count = 0\n",
    "    \n",
    "    \n",
    "    try:\n",
    "        # loop while computer time is less than recording length\n",
    "        while time.time() - start_time < recording_duration:\n",
    "            # get output of device\n",
    "            capture = k4a.get_capture()\n",
    "            if capture.depth is None: \n",
    "                print('Dropped frame')\n",
    "                continue\n",
    "\n",
    "            count += 1\n",
    "\n",
    "    except OSError:\n",
    "        print(\"Recording stopped early\")\n",
    "\n",
    "    finally:\n",
    "        # stop the camera object\n",
    "        k4a.stop()"
   ]
  },
  {
   "cell_type": "code",
   "execution_count": 18,
   "id": "a7e70a7e",
   "metadata": {},
   "outputs": [],
   "source": [
    "depth_function = process_depth\n",
    "ir_function = process_depth\n",
    "save_color=False"
   ]
  },
  {
   "cell_type": "code",
   "execution_count": 19,
   "id": "0dbd578a",
   "metadata": {
    "scrolled": false
   },
   "outputs": [],
   "source": [
    "process_list = []\n",
    "for device_name in devices:\n",
    "\n",
    "    # Create a k4a object referencing master\n",
    "    k4a_obj = PyK4A(\n",
    "        Config(**devices[device_name][\"pyk4a_config\"]),\n",
    "        device_id=devices[device_name][\"id\"],\n",
    "    )\n",
    "\n",
    "    # ensure a directory exists for device\n",
    "    ensure_dir(filename_prefix / device_name)\n",
    "\n",
    "    # save camera parameters\n",
    "    if False:\n",
    "        k4a_obj.start()\n",
    "        time.sleep(1)\n",
    "\n",
    "        k4a_obj.save_calibration_json(\n",
    "            filename_prefix / device_name / \"calibration.json\"\n",
    "        )\n",
    "        k4a_obj.stop()\n",
    "\n",
    "    # create a subprocess to run acqusition with that camera\n",
    "    process_list.append(\n",
    "        Process(\n",
    "            target=capture_from_azure,\n",
    "            args=(\n",
    "                k4a_obj,\n",
    "                filename_prefix / device_name,\n",
    "                recording_duration,\n",
    "            ),\n",
    "            kwargs={\n",
    "                \"display_frames\": devices[device_name][\"process_kwargs\"][\n",
    "                    \"display_frames\"\n",
    "                ],\n",
    "                \"display_time\": devices[device_name][\"process_kwargs\"][\n",
    "                    \"display_time\"\n",
    "                ],\n",
    "                \"depth_function\": depth_function,\n",
    "                \"ir_function\": ir_function,\n",
    "                \"ir_depth_dtype\": ir_depth_dtype,\n",
    "                \"ir_depth_write_frames_kwargs\": ir_depth_write_frames_kwargs,\n",
    "                \"color_write_frames_kwargs\": color_write_frames_kwargs,\n",
    "                \"save_color\": save_color,\n",
    "            },\n",
    "        )\n",
    "    )"
   ]
  },
  {
   "cell_type": "code",
   "execution_count": 20,
   "id": "9f81fb09",
   "metadata": {
    "scrolled": true
   },
   "outputs": [
    {
     "name": "stdout",
     "output_type": "stream",
     "text": [
      "master capture_from_azure\n",
      "\n",
      "subordinate capture_from_azure\n",
      "\n",
      "master capture_from_azure initialized\n",
      "\n"
     ]
    }
   ],
   "source": [
    "for p in process_list:\n",
    "    p.start()"
   ]
  },
  {
   "cell_type": "code",
   "execution_count": null,
   "id": "6c294e93",
   "metadata": {},
   "outputs": [],
   "source": []
  }
 ],
 "metadata": {
  "kernelspec": {
   "display_name": "kinect_acquisition",
   "language": "python",
   "name": "kinect_acquisition"
  },
  "language_info": {
   "codemirror_mode": {
    "name": "ipython",
    "version": 3
   },
   "file_extension": ".py",
   "mimetype": "text/x-python",
   "name": "python",
   "nbconvert_exporter": "python",
   "pygments_lexer": "ipython3",
   "version": "3.8.12"
  }
 },
 "nbformat": 4,
 "nbformat_minor": 5
}
