{
 "cells": [
  {
   "cell_type": "code",
   "execution_count": 1,
   "id": "e0a25001",
   "metadata": {},
   "outputs": [],
   "source": [
    "%load_ext autoreload\n",
    "%autoreload 2"
   ]
  },
  {
   "cell_type": "code",
   "execution_count": 2,
   "id": "european-glory",
   "metadata": {
    "scrolled": true
   },
   "outputs": [],
   "source": [
    "import subprocess, cv2, json, os, sys, shutil, pyk4a, time\n",
    "import numpy as np, matplotlib.pyplot as plt\n",
    "from kinectacq.acquisition import start_recording\n",
    "from kinectacq.paths import DATA_DIR, ensure_dir"
   ]
  },
  {
   "cell_type": "markdown",
   "id": "e904a716",
   "metadata": {},
   "source": [
    "### Set up recording location and duration info"
   ]
  },
  {
   "cell_type": "code",
   "execution_count": 3,
   "id": "3f7292ba",
   "metadata": {},
   "outputs": [],
   "source": [
    "import datetime"
   ]
  },
  {
   "cell_type": "code",
   "execution_count": 4,
   "id": "b011984c",
   "metadata": {},
   "outputs": [
    {
     "data": {
      "text/plain": [
       "'2022-02-07_15-36-57'"
      ]
     },
     "execution_count": 4,
     "metadata": {},
     "output_type": "execute_result"
    }
   ],
   "source": [
    "timestamp = datetime.datetime.now().strftime(\"%Y-%m-%d_%H-%M-%S\")\n",
    "timestamp"
   ]
  },
  {
   "cell_type": "code",
   "execution_count": 5,
   "id": "grand-science",
   "metadata": {},
   "outputs": [],
   "source": [
    "filename_prefix = DATA_DIR / 'test_recording' / timestamp\n",
    "recording_length = 10"
   ]
  },
  {
   "cell_type": "code",
   "execution_count": 6,
   "id": "8eac8001",
   "metadata": {},
   "outputs": [],
   "source": [
    "ensure_dir(filename_prefix)"
   ]
  },
  {
   "cell_type": "markdown",
   "id": "4f74ead2",
   "metadata": {},
   "source": [
    "### Get camera information"
   ]
  },
  {
   "cell_type": "code",
   "execution_count": 7,
   "id": "66ac841f",
   "metadata": {},
   "outputs": [
    {
     "name": "stdout",
     "output_type": "stream",
     "text": [
      "Index:0\tSerial:000779510512\tColor:1.6.110\tDepth:1.6.79\r\n"
     ]
    }
   ],
   "source": [
    "!k4arecorder --list"
   ]
  },
  {
   "cell_type": "markdown",
   "id": "2f769d00",
   "metadata": {},
   "source": [
    "### Set up devices\n",
    "- each k4a device needs to be configured\n",
    "- multi-camera rigs need to set up the WiredSyncMode\n",
    "    - Master = WiredSyncMode.MASTER\n",
    "    - Subordinate = WiredSyncMode.SUBORDINATE\n",
    "    - subordinate_delay_off_master_usec=640 (master samples every 900usec)"
   ]
  },
  {
   "cell_type": "code",
   "execution_count": 8,
   "id": "7193c1cb",
   "metadata": {},
   "outputs": [],
   "source": [
    "from pyk4a import (\n",
    "    PyK4A,\n",
    "    Config,\n",
    "    ColorResolution,\n",
    "    DepthMode,\n",
    "    WiredSyncMode,\n",
    ")"
   ]
  },
  {
   "cell_type": "code",
   "execution_count": 9,
   "id": "1f8af944",
   "metadata": {},
   "outputs": [],
   "source": [
    "devices = {\n",
    "    \"master\": {\n",
    "        \"id\": 0,\n",
    "        \"pyk4a_config\": {\n",
    "            \"color_resolution\": ColorResolution.RES_720P,\n",
    "            \"depth_mode\": DepthMode.NFOV_UNBINNED,\n",
    "            \"synchronized_images_only\": False,\n",
    "            #\"wired_sync_mode\": WiredSyncMode.MASTER,\n",
    "        },\n",
    "        \"process_kwargs\": {\n",
    "            \"display_frames\": True,\n",
    "            \"display_time\": False,\n",
    "        },\n",
    "    }\n",
    "}"
   ]
  },
  {
   "cell_type": "markdown",
   "id": "844291d0",
   "metadata": {},
   "source": [
    "### Run recording"
   ]
  },
  {
   "cell_type": "code",
   "execution_count": 10,
   "id": "0dbd578a",
   "metadata": {
    "scrolled": true
   },
   "outputs": [
    {
     "name": "stdout",
     "output_type": "stream",
     "text": [
      " - Frame rate =  30.35023874629856\n"
     ]
    }
   ],
   "source": [
    "start_recording(\n",
    "    filename_prefix,\n",
    "    recording_length,\n",
    "    devices=devices,\n",
    ")"
   ]
  },
  {
   "cell_type": "code",
   "execution_count": null,
   "id": "4bccb37a",
   "metadata": {},
   "outputs": [],
   "source": []
  }
 ],
 "metadata": {
  "kernelspec": {
   "display_name": "kinect_acquisition",
   "language": "python",
   "name": "kinect_acquisition"
  },
  "language_info": {
   "codemirror_mode": {
    "name": "ipython",
    "version": 3
   },
   "file_extension": ".py",
   "mimetype": "text/x-python",
   "name": "python",
   "nbconvert_exporter": "python",
   "pygments_lexer": "ipython3",
   "version": "3.8.12"
  }
 },
 "nbformat": 4,
 "nbformat_minor": 5
}
