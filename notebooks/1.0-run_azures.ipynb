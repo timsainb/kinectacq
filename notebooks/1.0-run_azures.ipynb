{
 "cells": [
  {
   "cell_type": "code",
   "execution_count": 1,
   "id": "e0a25001",
   "metadata": {},
   "outputs": [],
   "source": [
    "%load_ext autoreload\n",
    "%autoreload 2"
   ]
  },
  {
   "cell_type": "code",
   "execution_count": 2,
   "id": "european-glory",
   "metadata": {
    "scrolled": true
   },
   "outputs": [],
   "source": [
    "import subprocess, cv2, json, os, sys, shutil, pyk4a, time\n",
    "import numpy as np, matplotlib.pyplot as plt\n",
    "from kinectacq.acquisition import start_recording\n",
    "from kinectacq.paths import DATA_DIR, ensure_dir"
   ]
  },
  {
   "cell_type": "markdown",
   "id": "e904a716",
   "metadata": {},
   "source": [
    "### Set up recording location"
   ]
  },
  {
   "cell_type": "code",
   "execution_count": 3,
   "id": "3f7292ba",
   "metadata": {},
   "outputs": [],
   "source": [
    "import datetime"
   ]
  },
  {
   "cell_type": "code",
   "execution_count": 4,
   "id": "b011984c",
   "metadata": {},
   "outputs": [
    {
     "data": {
      "text/plain": [
       "'2022-02-18_13-45-10'"
      ]
     },
     "execution_count": 4,
     "metadata": {},
     "output_type": "execute_result"
    }
   ],
   "source": [
    "timestamp = datetime.datetime.now().strftime(\"%Y-%m-%d_%H-%M-%S\")\n",
    "timestamp"
   ]
  },
  {
   "cell_type": "code",
   "execution_count": 5,
   "id": "grand-science",
   "metadata": {},
   "outputs": [],
   "source": [
    "filename_prefix = DATA_DIR / 'test_recording' / timestamp"
   ]
  },
  {
   "cell_type": "code",
   "execution_count": 6,
   "id": "8eac8001",
   "metadata": {},
   "outputs": [],
   "source": [
    "ensure_dir(filename_prefix)"
   ]
  },
  {
   "cell_type": "markdown",
   "id": "4f74ead2",
   "metadata": {},
   "source": [
    "### Get camera information"
   ]
  },
  {
   "cell_type": "code",
   "execution_count": 7,
   "id": "66ac841f",
   "metadata": {},
   "outputs": [
    {
     "name": "stdout",
     "output_type": "stream",
     "text": [
      "Index:0\tSerial:000774310512\tColor:1.6.102\tDepth:1.6.75\n",
      "Index:1\tSerial:000261501812\tColor:1.6.108\tDepth:1.6.79\n"
     ]
    }
   ],
   "source": [
    "!k4arecorder --list"
   ]
  },
  {
   "cell_type": "markdown",
   "id": "2f769d00",
   "metadata": {},
   "source": [
    "### Set up devices\n",
    "- each k4a device needs to be configured\n",
    "- multi-camera rigs need to set up the WiredSyncMode\n",
    "    - Master = WiredSyncMode.MASTER\n",
    "    - Subordinate = WiredSyncMode.SUBORDINATE\n",
    "    - subordinate_delay_off_master_usec=640 (master samples every 900usec)\n",
    "- [Kinect SDK](https://microsoft.github.io/Azure-Kinect-Sensor-SDK/master/structk4a__device__configuration__t_a8208974f05d89fc1362c6a0900bdef4d.html#a8208974f05d89fc1362c6a0900bdef4d)"
   ]
  },
  {
   "cell_type": "code",
   "execution_count": 8,
   "id": "7193c1cb",
   "metadata": {},
   "outputs": [],
   "source": [
    "from pyk4a import (\n",
    "    PyK4A,\n",
    "    Config,\n",
    "    ColorResolution,\n",
    "    DepthMode,\n",
    "    WiredSyncMode,\n",
    ")"
   ]
  },
  {
   "cell_type": "code",
   "execution_count": 9,
   "id": "1f8af944",
   "metadata": {},
   "outputs": [],
   "source": [
    "devices = {\n",
    "    \"master\": {\n",
    "        \"id\": 0,\n",
    "        \"pyk4a_config\": {\n",
    "            \"color_resolution\": ColorResolution.RES_720P,\n",
    "            \"depth_mode\": DepthMode.NFOV_UNBINNED,\n",
    "            #\"synchronized_images_only\": False,\n",
    "            #\"wired_sync_mode\": WiredSyncMode.MASTER,\n",
    "        },\n",
    "        \"process_kwargs\": {\n",
    "            \"display_frames\": True,\n",
    "            \"display_time\": False,\n",
    "            \"save_color\": True,\n",
    "        },\n",
    "    }\n",
    "}"
   ]
  },
  {
   "cell_type": "markdown",
   "id": "ba78861f",
   "metadata": {},
   "source": [
    "### Set up processing functions\n",
    "- Functions for reducing video file sizes to 8 bit. "
   ]
  },
  {
   "cell_type": "code",
   "execution_count": 10,
   "id": "befca532",
   "metadata": {},
   "outputs": [],
   "source": [
    "_dtype = np.uint16"
   ]
  },
  {
   "cell_type": "code",
   "execution_count": 11,
   "id": "625d9363",
   "metadata": {},
   "outputs": [],
   "source": [
    "def process_depth(depth):\n",
    "    #return np.clip((depth - 435) * (depth < 690), 0, 255).astype(_dtype)\n",
    "    return depth.astype(_dtype)\n",
    "def process_ir(ir):\n",
    "    #ir = np.clip(ir + 100, 160, 5500)\n",
    "    #return ((np.log(ir) - 5) * 70).astype(_dtype)\n",
    "    return ir.astype(_dtype)"
   ]
  },
  {
   "cell_type": "markdown",
   "id": "a8526336",
   "metadata": {},
   "source": [
    "### Recording parameters"
   ]
  },
  {
   "cell_type": "code",
   "execution_count": 12,
   "id": "4e8f0946",
   "metadata": {},
   "outputs": [],
   "source": [
    "ir_depth_write_frames_kwargs={\n",
    "        \"codec\": \"ffv1\", #\"ffv1\",\n",
    "        \"crf\": 14,\n",
    "        \"threads\": 6,\n",
    "        \"fps\": 30,\n",
    "        \"slices\": 24,\n",
    "        \"slicecrc\": 1,\n",
    "        \"frame_size\": None,\n",
    "        \"get_cmd\": False,\n",
    "    }"
   ]
  },
  {
   "cell_type": "code",
   "execution_count": 13,
   "id": "8a104ef0",
   "metadata": {},
   "outputs": [],
   "source": [
    "color_write_frames_kwargs={\n",
    "        \"codec\": \"ffv1\", #\"h264\",\n",
    "        \"crf\": 22,\n",
    "        \"threads\": 6,\n",
    "        \"fps\": 30,\n",
    "        \"slices\": 24,\n",
    "        \"slicecrc\": 1,\n",
    "        \"frame_size\": None,\n",
    "        \"get_cmd\": False,\n",
    "    }"
   ]
  },
  {
   "cell_type": "code",
   "execution_count": 14,
   "id": "e12dadf8",
   "metadata": {},
   "outputs": [],
   "source": [
    "recording_duration = 60"
   ]
  },
  {
   "cell_type": "markdown",
   "id": "844291d0",
   "metadata": {},
   "source": [
    "### Run recording"
   ]
  },
  {
   "cell_type": "code",
   "execution_count": 15,
   "id": "0dbd578a",
   "metadata": {
    "scrolled": false
   },
   "outputs": [
    {
     "data": {
      "application/vnd.jupyter.widget-view+json": {
       "model_id": "29c59414f5bb483784da81415c60a7ac",
       "version_major": 2,
       "version_minor": 0
      },
      "text/plain": [
       "Recirding (s):   0%|          | 0/60 [00:00<?, ?it/s]"
      ]
     },
     "metadata": {},
     "output_type": "display_data"
    },
    {
     "name": "stdout",
     "output_type": "stream",
     "text": [
      "capture_from_azure initialized: master \n",
      "0 frame written 19.66350030899048\n",
      "100 frame written 26.398544311523438\n",
      "200 frame written 31.15181803703308\n",
      "300 frame written 37.24355387687683\n",
      "400 frame written 42.878641843795776\n",
      "500 frame written 48.99902558326721\n",
      "600 frame written 56.04684400558472\n",
      "Framerate (master):29.8938\n",
      "700 frame written 62.81228828430176\n",
      "800 frame written 70.36214852333069\n",
      "900 frame written 77.43817925453186\n",
      "1000 frame written 85.03448963165283\n",
      "1100 frame written 91.63912558555603\n",
      "1200 frame written 98.11063313484192\n",
      "1300 frame written 103.4655089378357\n",
      "1400 frame written 111.58061242103577\n",
      "1500 frame written 118.61526989936829\n"
     ]
    },
    {
     "name": "stderr",
     "output_type": "stream",
     "text": [
      "Process Process-1:\n",
      "Traceback (most recent call last):\n",
      "  File \"/home/tim/anaconda3/envs/kinect_acquisition/lib/python3.8/multiprocessing/process.py\", line 315, in _bootstrap\n",
      "    self.run()\n",
      "  File \"/home/tim/anaconda3/envs/kinect_acquisition/lib/python3.8/multiprocessing/process.py\", line 108, in run\n",
      "    self._target(*self._args, **self._kwargs)\n",
      "  File \"/n/groups/datta/tim_sainburg/projects/kinectacq/kinectacq/acquisition.py\", line 102, in capture_from_azure\n",
      "    capture = k4a.get_capture()\n",
      "  File \"/home/tim/anaconda3/envs/kinect_acquisition/lib/python3.8/site-packages/pyk4a/pyk4a.py\", line 126, in get_capture\n",
      "    _verify_error(res)\n",
      "  File \"/home/tim/anaconda3/envs/kinect_acquisition/lib/python3.8/site-packages/pyk4a/errors.py\", line 18, in _verify_error\n",
      "    raise K4AException()\n",
      "pyk4a.errors.K4AException\n"
     ]
    }
   ],
   "source": [
    "start_recording(\n",
    "    filename_prefix,\n",
    "    recording_duration,\n",
    "    devices=devices,\n",
    "    depth_function = process_depth,\n",
    "    ir_function = process_ir,\n",
    "    ir_depth_dtype = _dtype,\n",
    "    ir_depth_write_frames_kwargs=ir_depth_write_frames_kwargs,\n",
    "    color_write_frames_kwargs=color_write_frames_kwargs\n",
    ")"
   ]
  },
  {
   "cell_type": "markdown",
   "id": "f78e2e79",
   "metadata": {},
   "source": [
    "### Read and show file"
   ]
  },
  {
   "cell_type": "code",
   "execution_count": 16,
   "id": "b5bb5064",
   "metadata": {},
   "outputs": [
    {
     "ename": "ValueError",
     "evalue": "Wait until start_recording finishes",
     "output_type": "error",
     "traceback": [
      "\u001b[0;31m---------------------------------------------------------------------------\u001b[0m",
      "\u001b[0;31mValueError\u001b[0m                                Traceback (most recent call last)",
      "\u001b[0;32m<ipython-input-16-ac4ff2d2a099>\u001b[0m in \u001b[0;36m<module>\u001b[0;34m\u001b[0m\n\u001b[0;32m----> 1\u001b[0;31m \u001b[0;32mraise\u001b[0m \u001b[0mValueError\u001b[0m\u001b[0;34m(\u001b[0m\u001b[0;34m'Wait until start_recording finishes'\u001b[0m\u001b[0;34m)\u001b[0m\u001b[0;34m\u001b[0m\u001b[0;34m\u001b[0m\u001b[0m\n\u001b[0m",
      "\u001b[0;31mValueError\u001b[0m: Wait until start_recording finishes"
     ]
    }
   ],
   "source": [
    "raise ValueError('Wait until start_recording finishes')"
   ]
  },
  {
   "cell_type": "code",
   "execution_count": null,
   "id": "b0d06bac",
   "metadata": {},
   "outputs": [],
   "source": [
    "print('\\n'.join([i.as_posix() for i in list((filename_prefix/'master').iterdir())]))"
   ]
  },
  {
   "cell_type": "code",
   "execution_count": null,
   "id": "dc958009",
   "metadata": {},
   "outputs": [],
   "source": [
    "system_timestamps = np.load(filename_prefix / 'master' / 'system_timestamps.npy')"
   ]
  },
  {
   "cell_type": "code",
   "execution_count": null,
   "id": "54d9878d",
   "metadata": {},
   "outputs": [],
   "source": [
    "len(system_timestamps)"
   ]
  },
  {
   "cell_type": "code",
   "execution_count": null,
   "id": "4756416e",
   "metadata": {},
   "outputs": [],
   "source": [
    "len(system_timestamps) /((np.max(system_timestamps) - np.min(system_timestamps))*1e-9)"
   ]
  },
  {
   "cell_type": "code",
   "execution_count": null,
   "id": "f0d1c9ca",
   "metadata": {},
   "outputs": [],
   "source": [
    "((np.max(system_timestamps) - np.min(system_timestamps))*1e-9)"
   ]
  },
  {
   "cell_type": "code",
   "execution_count": null,
   "id": "1abbb087",
   "metadata": {},
   "outputs": [],
   "source": [
    "np.load(filename_prefix / 'master' / 'depth_timestamps.npy')"
   ]
  },
  {
   "cell_type": "code",
   "execution_count": null,
   "id": "81a7e96a",
   "metadata": {},
   "outputs": [],
   "source": [
    "file_loc = filename_prefix / 'master' /  \"depth.avi\"\n",
    "vidcap = cv2.VideoCapture(file_loc.as_posix())\n",
    "success,image = vidcap.read()\n",
    "total_frames = vidcap.get(7)\n",
    "print(total_frames, image.shape)"
   ]
  },
  {
   "cell_type": "code",
   "execution_count": null,
   "id": "21f1a99d",
   "metadata": {},
   "outputs": [],
   "source": [
    "nbit = 16\n",
    "total_expected_bits = total_frames * np.product(image.shape) * nbit\n",
    "total_expected_MB_uncompressed = total_expected_bits * 1.192e-7 \n",
    "print('uncompressed size: {} MB'.format(round(total_expected_MB_uncompressed)))\n",
    "print('actual_size: {} MB'.format(round(os.path.getsize(file_loc) * 1e-6)))"
   ]
  },
  {
   "cell_type": "code",
   "execution_count": null,
   "id": "e442f189",
   "metadata": {},
   "outputs": [],
   "source": [
    "# get frame at number\n",
    "vidcap.set(1, 140)\n",
    "success,image = vidcap.read()"
   ]
  },
  {
   "cell_type": "code",
   "execution_count": null,
   "id": "8db00375",
   "metadata": {
    "scrolled": false
   },
   "outputs": [],
   "source": [
    "fig, ax = plt.subplots(figsize=(10,10))\n",
    "ax.matshow(np.log(1+image)[:,:,0])"
   ]
  },
  {
   "cell_type": "code",
   "execution_count": null,
   "id": "1e940f7c",
   "metadata": {},
   "outputs": [],
   "source": [
    "file_loc = filename_prefix / 'master' /  \"color.avi\"\n",
    "vidcap = cv2.VideoCapture(file_loc.as_posix())\n",
    "success,image = vidcap.read()\n",
    "total_frames = vidcap.get(7)\n",
    "print(total_frames, image.shape)"
   ]
  },
  {
   "cell_type": "code",
   "execution_count": null,
   "id": "f5691629",
   "metadata": {},
   "outputs": [],
   "source": [
    "nbit = 8\n",
    "total_expected_bits = total_frames * np.product(image.shape) * nbit\n",
    "total_expected_MB_uncompressed = total_expected_bits * 1.192e-7 \n",
    "print('uncompressed size: {} MB'.format(total_expected_MB_uncompressed))\n",
    "print('actual_size: {} MB'.format(os.path.getsize(file_loc) * 1e-6))"
   ]
  },
  {
   "cell_type": "code",
   "execution_count": null,
   "id": "86c85b1e",
   "metadata": {},
   "outputs": [],
   "source": [
    "success,image = vidcap.read()\n",
    "# get frame at number\n",
    "vidcap.set(1, 50)\n",
    "success,image = vidcap.read()"
   ]
  },
  {
   "cell_type": "code",
   "execution_count": null,
   "id": "08a9d19e",
   "metadata": {},
   "outputs": [],
   "source": [
    "fig, ax = plt.subplots(figsize=(10,10))\n",
    "ax.imshow(image)"
   ]
  },
  {
   "cell_type": "code",
   "execution_count": null,
   "id": "6a58dca5",
   "metadata": {},
   "outputs": [],
   "source": []
  },
  {
   "cell_type": "code",
   "execution_count": null,
   "id": "df99de31",
   "metadata": {},
   "outputs": [],
   "source": []
  },
  {
   "cell_type": "code",
   "execution_count": null,
   "id": "7016c864",
   "metadata": {},
   "outputs": [],
   "source": []
  }
 ],
 "metadata": {
  "kernelspec": {
   "display_name": "kinect_acquisition",
   "language": "python",
   "name": "kinect_acquisition"
  },
  "language_info": {
   "codemirror_mode": {
    "name": "ipython",
    "version": 3
   },
   "file_extension": ".py",
   "mimetype": "text/x-python",
   "name": "python",
   "nbconvert_exporter": "python",
   "pygments_lexer": "ipython3",
   "version": "3.8.12"
  }
 },
 "nbformat": 4,
 "nbformat_minor": 5
}
