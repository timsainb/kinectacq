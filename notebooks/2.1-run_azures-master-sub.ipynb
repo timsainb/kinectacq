{
 "cells": [
  {
   "cell_type": "code",
   "execution_count": 1,
   "id": "e0a25001",
   "metadata": {},
   "outputs": [],
   "source": [
    "%load_ext autoreload\n",
    "%autoreload 2"
   ]
  },
  {
   "cell_type": "code",
   "execution_count": 2,
   "id": "european-glory",
   "metadata": {
    "scrolled": true
   },
   "outputs": [],
   "source": [
    "import subprocess, cv2, json, os, sys, shutil, pyk4a, time\n",
    "import numpy as np, matplotlib.pyplot as plt\n",
    "from kinectacq.acquisition import start_recording\n",
    "from kinectacq.paths import DATA_DIR, ensure_dir"
   ]
  },
  {
   "cell_type": "markdown",
   "id": "e904a716",
   "metadata": {},
   "source": [
    "### Set up recording location"
   ]
  },
  {
   "cell_type": "code",
   "execution_count": 3,
   "id": "3f7292ba",
   "metadata": {},
   "outputs": [],
   "source": [
    "import datetime"
   ]
  },
  {
   "cell_type": "code",
   "execution_count": 4,
   "id": "b011984c",
   "metadata": {},
   "outputs": [
    {
     "data": {
      "text/plain": [
       "'2022-02-17_17-32-03'"
      ]
     },
     "execution_count": 4,
     "metadata": {},
     "output_type": "execute_result"
    }
   ],
   "source": [
    "timestamp = datetime.datetime.now().strftime(\"%Y-%m-%d_%H-%M-%S\")\n",
    "timestamp"
   ]
  },
  {
   "cell_type": "code",
   "execution_count": 5,
   "id": "grand-science",
   "metadata": {},
   "outputs": [],
   "source": [
    "filename_prefix = DATA_DIR / 'test_recording' / timestamp"
   ]
  },
  {
   "cell_type": "code",
   "execution_count": 6,
   "id": "8eac8001",
   "metadata": {},
   "outputs": [],
   "source": [
    "ensure_dir(filename_prefix)"
   ]
  },
  {
   "cell_type": "markdown",
   "id": "4f74ead2",
   "metadata": {},
   "source": [
    "### Get camera information"
   ]
  },
  {
   "cell_type": "code",
   "execution_count": 7,
   "id": "66ac841f",
   "metadata": {},
   "outputs": [
    {
     "name": "stdout",
     "output_type": "stream",
     "text": [
      "Index:0\tSerial:000774310512\tColor:1.6.102\tDepth:1.6.75\n",
      "Index:1\tSerial:000261501812\tColor:1.6.108\tDepth:1.6.79\n"
     ]
    }
   ],
   "source": [
    "!k4arecorder --list"
   ]
  },
  {
   "cell_type": "markdown",
   "id": "2f769d00",
   "metadata": {},
   "source": [
    "### Set up devices\n",
    "- each k4a device needs to be configured\n",
    "- multi-camera rigs need to set up the WiredSyncMode\n",
    "    - Master = WiredSyncMode.MASTER\n",
    "    - Subordinate = WiredSyncMode.SUBORDINATE\n",
    "    - subordinate_delay_off_master_usec=640 (master samples every 900usec)\n",
    "- [Kinect SDK](https://microsoft.github.io/Azure-Kinect-Sensor-SDK/master/structk4a__device__configuration__t_a8208974f05d89fc1362c6a0900bdef4d.html#a8208974f05d89fc1362c6a0900bdef4d)"
   ]
  },
  {
   "cell_type": "code",
   "execution_count": 8,
   "id": "7193c1cb",
   "metadata": {},
   "outputs": [],
   "source": [
    "from pyk4a import (\n",
    "    PyK4A,\n",
    "    Config,\n",
    "    ColorResolution,\n",
    "    DepthMode,\n",
    "    WiredSyncMode,\n",
    ")"
   ]
  },
  {
   "cell_type": "code",
   "execution_count": 9,
   "id": "1f8af944",
   "metadata": {},
   "outputs": [],
   "source": [
    "devices = {\n",
    "    \"master\": {\n",
    "        \"id\": 0,\n",
    "        \"pyk4a_config\": {\n",
    "            \"color_resolution\": ColorResolution.RES_720P,\n",
    "            \"depth_mode\": DepthMode.NFOV_UNBINNED,\n",
    "            \"synchronized_images_only\": False,\n",
    "            \"wired_sync_mode\": WiredSyncMode.MASTER,\n",
    "        },\n",
    "        \"process_kwargs\": {\n",
    "            \"display_frames\": True,\n",
    "            \"display_time\": False,\n",
    "            \"save_color\": True, \n",
    "        },\n",
    "    },\n",
    "    \"subordinate\": {\n",
    "        \"id\": 1,\n",
    "        \"pyk4a_config\": {\n",
    "            \"color_resolution\": ColorResolution.OFF,\n",
    "            \"depth_mode\": DepthMode.NFOV_UNBINNED,\n",
    "            \"synchronized_images_only\": False,\n",
    "            \"wired_sync_mode\": WiredSyncMode.SUBORDINATE,\n",
    "            \"subordinate_delay_off_master_usec\" : 640\n",
    "        },\n",
    "        \"process_kwargs\": {\n",
    "            \"display_frames\": False,\n",
    "            \"display_time\": True,\n",
    "            \"save_color\":False,\n",
    "        },\n",
    "    }\n",
    "}"
   ]
  },
  {
   "cell_type": "markdown",
   "id": "ba78861f",
   "metadata": {},
   "source": [
    "### Set up processing functions\n",
    "- Functions for reducing video file sizes to 8 bit. "
   ]
  },
  {
   "cell_type": "code",
   "execution_count": 10,
   "id": "befca532",
   "metadata": {},
   "outputs": [],
   "source": [
    "_dtype = np.uint16"
   ]
  },
  {
   "cell_type": "code",
   "execution_count": 11,
   "id": "625d9363",
   "metadata": {},
   "outputs": [],
   "source": [
    "def process_depth(depth):\n",
    "    #return np.clip((depth - 435) * (depth < 690), 0, 255).astype(_dtype)\n",
    "    return depth.astype(_dtype)\n",
    "def process_ir(ir):\n",
    "    #ir = np.clip(ir + 100, 160, 5500)\n",
    "    #return ((np.log(ir) - 5) * 70).astype(_dtype)\n",
    "    return ir.astype(_dtype)"
   ]
  },
  {
   "cell_type": "markdown",
   "id": "a8526336",
   "metadata": {},
   "source": [
    "### Recording parameters"
   ]
  },
  {
   "cell_type": "code",
   "execution_count": 12,
   "id": "4e8f0946",
   "metadata": {},
   "outputs": [],
   "source": [
    "ir_depth_write_frames_kwargs={\n",
    "        \"codec\": \"ffv1\", #\"ffv1\",\n",
    "        \"crf\": 14,\n",
    "        \"threads\": 6,\n",
    "        \"fps\": 30,\n",
    "        \"slices\": 24,\n",
    "        \"slicecrc\": 1,\n",
    "        \"frame_size\": None,\n",
    "        \"get_cmd\": False,\n",
    "    }"
   ]
  },
  {
   "cell_type": "code",
   "execution_count": 13,
   "id": "8a104ef0",
   "metadata": {},
   "outputs": [],
   "source": [
    "color_write_frames_kwargs={\n",
    "        \"codec\": \"ffv1\", #\"h264\",\n",
    "        \"crf\": 22,\n",
    "        \"threads\": 6,\n",
    "        \"fps\": 30,\n",
    "        \"slices\": 24,\n",
    "        \"slicecrc\": 1,\n",
    "        \"frame_size\": None,\n",
    "        \"get_cmd\": False,\n",
    "    }"
   ]
  },
  {
   "cell_type": "code",
   "execution_count": 14,
   "id": "e12dadf8",
   "metadata": {},
   "outputs": [],
   "source": [
    "recording_duration = 5"
   ]
  },
  {
   "cell_type": "markdown",
   "id": "844291d0",
   "metadata": {},
   "source": [
    "### Run recording\n",
    "- TODO: catch errors in subprocess for multiple cameras"
   ]
  },
  {
   "cell_type": "code",
   "execution_count": 15,
   "id": "0dbd578a",
   "metadata": {
    "scrolled": false
   },
   "outputs": [
    {
     "name": "stdout",
     "output_type": "stream",
     "text": [
      "capture_from_azure initialized: subordinate \n",
      "capture_from_azure initialized: master \n",
      "Recorded 3 out of 5 seconds"
     ]
    }
   ],
   "source": [
    "start_recording(\n",
    "    filename_prefix,\n",
    "    recording_duration,\n",
    "    devices=devices,\n",
    "    depth_function = process_depth,\n",
    "    ir_function = process_ir,\n",
    "    ir_depth_dtype = _dtype,\n",
    "    ir_depth_write_frames_kwargs=ir_depth_write_frames_kwargs,\n",
    "    color_write_frames_kwargs=color_write_frames_kwargs\n",
    ")"
   ]
  },
  {
   "cell_type": "markdown",
   "id": "f78e2e79",
   "metadata": {},
   "source": [
    "### Read and show file"
   ]
  },
  {
   "cell_type": "code",
   "execution_count": 16,
   "id": "b5bb5064",
   "metadata": {
    "scrolled": true
   },
   "outputs": [
    {
     "ename": "ValueError",
     "evalue": "Break",
     "output_type": "error",
     "traceback": [
      "\u001b[0;31m---------------------------------------------------------------------------\u001b[0m",
      "\u001b[0;31mValueError\u001b[0m                                Traceback (most recent call last)",
      "\u001b[0;32m<ipython-input-16-40dfbe67af05>\u001b[0m in \u001b[0;36m<module>\u001b[0;34m\u001b[0m\n\u001b[0;32m----> 1\u001b[0;31m \u001b[0;32mraise\u001b[0m \u001b[0mValueError\u001b[0m\u001b[0;34m(\u001b[0m\u001b[0;34m'Break'\u001b[0m\u001b[0;34m)\u001b[0m\u001b[0;34m\u001b[0m\u001b[0;34m\u001b[0m\u001b[0m\n\u001b[0m",
      "\u001b[0;31mValueError\u001b[0m: Break"
     ]
    }
   ],
   "source": [
    "raise ValueError('Break')"
   ]
  },
  {
   "cell_type": "code",
   "execution_count": null,
   "id": "b0d06bac",
   "metadata": {},
   "outputs": [],
   "source": [
    "filename_prefix"
   ]
  },
  {
   "cell_type": "code",
   "execution_count": null,
   "id": "1e3c98c0",
   "metadata": {},
   "outputs": [],
   "source": [
    "print('\\n'.join([i.as_posix() for i in list(filename_prefix.iterdir())]))"
   ]
  },
  {
   "cell_type": "code",
   "execution_count": null,
   "id": "989338b5",
   "metadata": {},
   "outputs": [],
   "source": [
    "print('\\n'.join([i.as_posix() for i in list((filename_prefix/'master').iterdir())]))"
   ]
  },
  {
   "cell_type": "code",
   "execution_count": null,
   "id": "47ef16e8",
   "metadata": {},
   "outputs": [],
   "source": [
    "print('\\n'.join([i.as_posix() for i in list((filename_prefix/'subordinate').iterdir())]))"
   ]
  },
  {
   "cell_type": "code",
   "execution_count": null,
   "id": "81a7e96a",
   "metadata": {},
   "outputs": [],
   "source": [
    "file_loc = filename_prefix / 'master' /  \"depth.avi\"\n",
    "vidcap = cv2.VideoCapture(file_loc.as_posix())\n",
    "success,image = vidcap.read()\n",
    "total_frames = vidcap.get(7)\n",
    "print(total_frames, image.shape)"
   ]
  },
  {
   "cell_type": "code",
   "execution_count": null,
   "id": "95dfc786",
   "metadata": {},
   "outputs": [],
   "source": [
    "os.path.getsize(file_loc)"
   ]
  },
  {
   "cell_type": "code",
   "execution_count": null,
   "id": "21f1a99d",
   "metadata": {},
   "outputs": [],
   "source": [
    "nbit = 16\n",
    "total_expected_bits = total_frames * np.product(image.shape) * nbit\n",
    "total_expected_MB_uncompressed = total_expected_bits * 1.192e-7 \n",
    "print('uncompressed size: {} MB'.format(round(total_expected_MB_uncompressed)))\n",
    "print('actual_size: {} MB'.format(round(os.path.getsize(file_loc) * 1e-6)))"
   ]
  },
  {
   "cell_type": "code",
   "execution_count": null,
   "id": "e442f189",
   "metadata": {},
   "outputs": [],
   "source": [
    "# get frame at number\n",
    "vidcap.set(1, 50)\n",
    "success,image = vidcap.read()"
   ]
  },
  {
   "cell_type": "code",
   "execution_count": null,
   "id": "8db00375",
   "metadata": {
    "scrolled": false
   },
   "outputs": [],
   "source": [
    "fig, ax = plt.subplots(figsize=(10,10))\n",
    "ax.matshow(np.log(1+image)[:,:,0])"
   ]
  },
  {
   "cell_type": "code",
   "execution_count": null,
   "id": "1e940f7c",
   "metadata": {},
   "outputs": [],
   "source": [
    "file_loc = filename_prefix / 'master' /  \"color.avi\"\n",
    "vidcap = cv2.VideoCapture(file_loc.as_posix())\n",
    "success,image = vidcap.read()\n",
    "total_frames = vidcap.get(7)\n",
    "print(total_frames, image.shape)"
   ]
  },
  {
   "cell_type": "code",
   "execution_count": null,
   "id": "f5691629",
   "metadata": {},
   "outputs": [],
   "source": [
    "nbit = 8\n",
    "total_expected_bits = total_frames * np.product(image.shape) * nbit\n",
    "total_expected_MB_uncompressed = total_expected_bits * 1.192e-7 \n",
    "print('uncompressed size: {} MB'.format(total_expected_MB_uncompressed))\n",
    "print('actual_size: {} MB'.format(os.path.getsize(file_loc) * 1e-6))"
   ]
  },
  {
   "cell_type": "code",
   "execution_count": null,
   "id": "86c85b1e",
   "metadata": {},
   "outputs": [],
   "source": [
    "success,image = vidcap.read()\n",
    "# get frame at number\n",
    "vidcap.set(1, 50)\n",
    "success,image = vidcap.read()"
   ]
  },
  {
   "cell_type": "code",
   "execution_count": null,
   "id": "08a9d19e",
   "metadata": {},
   "outputs": [],
   "source": [
    "fig, ax = plt.subplots(figsize=(10,10))\n",
    "ax.imshow(image)"
   ]
  },
  {
   "cell_type": "code",
   "execution_count": null,
   "id": "6a58dca5",
   "metadata": {},
   "outputs": [],
   "source": []
  },
  {
   "cell_type": "code",
   "execution_count": null,
   "id": "df99de31",
   "metadata": {},
   "outputs": [],
   "source": []
  }
 ],
 "metadata": {
  "kernelspec": {
   "display_name": "kinect_acquisition",
   "language": "python",
   "name": "kinect_acquisition"
  },
  "language_info": {
   "codemirror_mode": {
    "name": "ipython",
    "version": 3
   },
   "file_extension": ".py",
   "mimetype": "text/x-python",
   "name": "python",
   "nbconvert_exporter": "python",
   "pygments_lexer": "ipython3",
   "version": "3.8.12"
  }
 },
 "nbformat": 4,
 "nbformat_minor": 5
}
