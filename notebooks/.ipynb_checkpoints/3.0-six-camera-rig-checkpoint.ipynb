{
 "cells": [
  {
   "cell_type": "code",
   "execution_count": 1,
   "id": "e0a25001",
   "metadata": {},
   "outputs": [],
   "source": [
    "%load_ext autoreload\n",
    "%autoreload 2"
   ]
  },
  {
   "cell_type": "code",
   "execution_count": 2,
   "id": "european-glory",
   "metadata": {
    "scrolled": true
   },
   "outputs": [],
   "source": [
    "import subprocess, cv2, json, os, sys, shutil, pyk4a, time\n",
    "import numpy as np, matplotlib.pyplot as plt\n",
    "from kinectacq.acquisition import start_recording\n",
    "from kinectacq.paths import DATA_DIR, ensure_dir"
   ]
  },
  {
   "cell_type": "markdown",
   "id": "e904a716",
   "metadata": {},
   "source": [
    "### Set up recording location"
   ]
  },
  {
   "cell_type": "code",
   "execution_count": 3,
   "id": "3f7292ba",
   "metadata": {},
   "outputs": [],
   "source": [
    "import datetime"
   ]
  },
  {
   "cell_type": "code",
   "execution_count": 4,
   "id": "b011984c",
   "metadata": {},
   "outputs": [
    {
     "data": {
      "text/plain": [
       "'2023-01-27_12-39-10'"
      ]
     },
     "execution_count": 4,
     "metadata": {},
     "output_type": "execute_result"
    }
   ],
   "source": [
    "timestamp = datetime.datetime.now().strftime(\"%Y-%m-%d_%H-%M-%S\")\n",
    "timestamp"
   ]
  },
  {
   "cell_type": "code",
   "execution_count": 5,
   "id": "grand-science",
   "metadata": {},
   "outputs": [],
   "source": [
    "filename_prefix = DATA_DIR / 'test_recording' / timestamp"
   ]
  },
  {
   "cell_type": "code",
   "execution_count": 6,
   "id": "8eac8001",
   "metadata": {},
   "outputs": [],
   "source": [
    "ensure_dir(filename_prefix)"
   ]
  },
  {
   "cell_type": "markdown",
   "id": "4f74ead2",
   "metadata": {},
   "source": [
    "### Get camera information"
   ]
  },
  {
   "cell_type": "code",
   "execution_count": 7,
   "id": "66ac841f",
   "metadata": {},
   "outputs": [],
   "source": [
    "#!k4arecorder --list"
   ]
  },
  {
   "cell_type": "code",
   "execution_count": 8,
   "id": "2da616c5",
   "metadata": {},
   "outputs": [],
   "source": [
    "device_serials = {\n",
    "    'S1' : '000570221712',\n",
    "    'S2' : '000774310512',\n",
    "    'S3' : '000567321712',\n",
    "    'S4' : '000621521712',\n",
    "    'Top' : '000412721712',\n",
    "    'Bottom' : '000161621712'\n",
    "}\n",
    "device_names = {val:key for key, val in device_serials.items()}"
   ]
  },
  {
   "cell_type": "code",
   "execution_count": 9,
   "id": "72f97702",
   "metadata": {},
   "outputs": [
    {
     "name": "stdout",
     "output_type": "stream",
     "text": [
      "Available devices: 6\n",
      "0: 000412721712\n",
      "1: 000567321712\n",
      "2: 000774310512\n",
      "3: 000161621712\n",
      "4: 000570221712\n",
      "5: 000621521712\n"
     ]
    }
   ],
   "source": [
    "from pyk4a import PyK4A, connected_device_count\n",
    "\n",
    "device_name_id = {}\n",
    "cnt = connected_device_count()\n",
    "if not cnt:\n",
    "    print(\"No devices available\")\n",
    "    exit()\n",
    "print(f\"Available devices: {cnt}\")\n",
    "for device_id in range(cnt):\n",
    "    device = PyK4A(device_id=device_id)\n",
    "    device.open()\n",
    "    print(f\"{device_id}: {device.serial}\")\n",
    "    device_name_id[device_names[device.serial]]= device_id\n",
    "    device.close()"
   ]
  },
  {
   "cell_type": "code",
   "execution_count": 10,
   "id": "6d27b37e",
   "metadata": {},
   "outputs": [
    {
     "data": {
      "text/plain": [
       "{'Top': 0, 'S3': 1, 'S2': 2, 'Bottom': 3, 'S1': 4, 'S4': 5}"
      ]
     },
     "execution_count": 10,
     "metadata": {},
     "output_type": "execute_result"
    }
   ],
   "source": [
    "device_name_id"
   ]
  },
  {
   "cell_type": "markdown",
   "id": "2f769d00",
   "metadata": {},
   "source": [
    "### Set up devices\n",
    "- each k4a device needs to be configured\n",
    "- multi-camera rigs need to set up the WiredSyncMode\n",
    "    - Master = WiredSyncMode.MASTER\n",
    "    - Subordinate = WiredSyncMode.SUBORDINATE\n",
    "    - subordinate_delay_off_master_usec=640 (master samples every 900usec)\n",
    "- [Kinect SDK](https://microsoft.github.io/Azure-Kinect-Sensor-SDK/master/structk4a__device__configuration__t_a8208974f05d89fc1362c6a0900bdef4d.html#a8208974f05d89fc1362c6a0900bdef4d)"
   ]
  },
  {
   "cell_type": "code",
   "execution_count": 11,
   "id": "7193c1cb",
   "metadata": {},
   "outputs": [],
   "source": [
    "from pyk4a import (\n",
    "    PyK4A,\n",
    "    Config,\n",
    "    ColorResolution,\n",
    "    DepthMode,\n",
    "    WiredSyncMode,\n",
    ")"
   ]
  },
  {
   "cell_type": "code",
   "execution_count": 12,
   "id": "ac8e6d2f",
   "metadata": {},
   "outputs": [],
   "source": [
    "# set top to master\n",
    "devices = {\n",
    "    \"Top\": {\n",
    "        \"id\": device_name_id['Top'],\n",
    "        \"pyk4a_config\": {\n",
    "            \"color_resolution\": ColorResolution.RES_720P,\n",
    "            \"depth_mode\": DepthMode.NFOV_UNBINNED,\n",
    "            \"synchronized_images_only\": False,\n",
    "            \"wired_sync_mode\": WiredSyncMode.MASTER,\n",
    "        },\n",
    "        \"process_kwargs\": {\n",
    "            \"display_frames\": True,\n",
    "            \"display_time\": False,\n",
    "            \"save_color\": True, \n",
    "        },\n",
    "    }\n",
    "}\n",
    "for name, id_ in device_name_id.items():\n",
    "    if name == 'Top':\n",
    "        continue\n",
    "        \n",
    "    devices[name] = {\n",
    "        \"id\": id_,\n",
    "        \"pyk4a_config\": {\n",
    "            \"color_resolution\": ColorResolution.OFF,\n",
    "            \"depth_mode\": DepthMode.NFOV_UNBINNED,\n",
    "            \"synchronized_images_only\": False,\n",
    "            \"wired_sync_mode\": WiredSyncMode.SUBORDINATE,\n",
    "            \"subordinate_delay_off_master_usec\" : 0\n",
    "        },\n",
    "        \"process_kwargs\": {\n",
    "            \"display_frames\": False,\n",
    "            \"display_time\": True,\n",
    "            \"save_color\":False,\n",
    "        },\n",
    "    }"
   ]
  },
  {
   "cell_type": "code",
   "execution_count": 13,
   "id": "de49b75d",
   "metadata": {},
   "outputs": [
    {
     "data": {
      "text/plain": [
       "{'Top': {'id': 0,\n",
       "  'pyk4a_config': {'color_resolution': <ColorResolution.RES_720P: 1>,\n",
       "   'depth_mode': <DepthMode.NFOV_UNBINNED: 2>,\n",
       "   'synchronized_images_only': False,\n",
       "   'wired_sync_mode': <WiredSyncMode.MASTER: 1>},\n",
       "  'process_kwargs': {'display_frames': True,\n",
       "   'display_time': False,\n",
       "   'save_color': True}},\n",
       " 'S3': {'id': 1,\n",
       "  'pyk4a_config': {'color_resolution': <ColorResolution.OFF: 0>,\n",
       "   'depth_mode': <DepthMode.NFOV_UNBINNED: 2>,\n",
       "   'synchronized_images_only': False,\n",
       "   'wired_sync_mode': <WiredSyncMode.SUBORDINATE: 2>,\n",
       "   'subordinate_delay_off_master_usec': 0},\n",
       "  'process_kwargs': {'display_frames': False,\n",
       "   'display_time': True,\n",
       "   'save_color': False}},\n",
       " 'S2': {'id': 2,\n",
       "  'pyk4a_config': {'color_resolution': <ColorResolution.OFF: 0>,\n",
       "   'depth_mode': <DepthMode.NFOV_UNBINNED: 2>,\n",
       "   'synchronized_images_only': False,\n",
       "   'wired_sync_mode': <WiredSyncMode.SUBORDINATE: 2>,\n",
       "   'subordinate_delay_off_master_usec': 0},\n",
       "  'process_kwargs': {'display_frames': False,\n",
       "   'display_time': True,\n",
       "   'save_color': False}},\n",
       " 'Bottom': {'id': 3,\n",
       "  'pyk4a_config': {'color_resolution': <ColorResolution.OFF: 0>,\n",
       "   'depth_mode': <DepthMode.NFOV_UNBINNED: 2>,\n",
       "   'synchronized_images_only': False,\n",
       "   'wired_sync_mode': <WiredSyncMode.SUBORDINATE: 2>,\n",
       "   'subordinate_delay_off_master_usec': 0},\n",
       "  'process_kwargs': {'display_frames': False,\n",
       "   'display_time': True,\n",
       "   'save_color': False}},\n",
       " 'S1': {'id': 4,\n",
       "  'pyk4a_config': {'color_resolution': <ColorResolution.OFF: 0>,\n",
       "   'depth_mode': <DepthMode.NFOV_UNBINNED: 2>,\n",
       "   'synchronized_images_only': False,\n",
       "   'wired_sync_mode': <WiredSyncMode.SUBORDINATE: 2>,\n",
       "   'subordinate_delay_off_master_usec': 0},\n",
       "  'process_kwargs': {'display_frames': False,\n",
       "   'display_time': True,\n",
       "   'save_color': False}},\n",
       " 'S4': {'id': 5,\n",
       "  'pyk4a_config': {'color_resolution': <ColorResolution.OFF: 0>,\n",
       "   'depth_mode': <DepthMode.NFOV_UNBINNED: 2>,\n",
       "   'synchronized_images_only': False,\n",
       "   'wired_sync_mode': <WiredSyncMode.SUBORDINATE: 2>,\n",
       "   'subordinate_delay_off_master_usec': 0},\n",
       "  'process_kwargs': {'display_frames': False,\n",
       "   'display_time': True,\n",
       "   'save_color': False}}}"
      ]
     },
     "execution_count": 13,
     "metadata": {},
     "output_type": "execute_result"
    }
   ],
   "source": [
    "devices"
   ]
  },
  {
   "cell_type": "markdown",
   "id": "ba78861f",
   "metadata": {},
   "source": [
    "### Set up processing functions\n",
    "- Functions for reducing video file sizes to 8 bit. "
   ]
  },
  {
   "cell_type": "code",
   "execution_count": 14,
   "id": "befca532",
   "metadata": {},
   "outputs": [],
   "source": [
    "_dtype = np.uint16"
   ]
  },
  {
   "cell_type": "code",
   "execution_count": 15,
   "id": "625d9363",
   "metadata": {},
   "outputs": [],
   "source": [
    "def process_depth(depth):\n",
    "    #return np.clip((depth - 435) * (depth < 690), 0, 255).astype(_dtype)\n",
    "    return depth.astype(_dtype)\n",
    "def process_ir(ir):\n",
    "    #ir = np.clip(ir + 100, 160, 5500)\n",
    "    #return ((np.log(ir) - 5) * 70).astype(_dtype)\n",
    "    return ir.astype(_dtype)"
   ]
  },
  {
   "cell_type": "code",
   "execution_count": 16,
   "id": "ae763658",
   "metadata": {},
   "outputs": [],
   "source": [
    "def display_fcn(img):\n",
    "    # clip\n",
    "    img[img > 5000] = 5000\n",
    "    img[img < 1] = 1\n",
    "    return img "
   ]
  },
  {
   "cell_type": "markdown",
   "id": "a8526336",
   "metadata": {},
   "source": [
    "### Recording parameters"
   ]
  },
  {
   "cell_type": "code",
   "execution_count": 17,
   "id": "4e8f0946",
   "metadata": {},
   "outputs": [],
   "source": [
    "ir_write_frames_kwargs={\n",
    "        \"codec\": \"h264\", #\"ffv1\",\n",
    "        \"crf\": 14,\n",
    "        \"threads\": 1,\n",
    "        \"fps\": 30,\n",
    "        \"slices\": 24,\n",
    "        \"slicecrc\": 1,\n",
    "        \"frame_size\": None,\n",
    "        \"get_cmd\": False,\n",
    "    }"
   ]
  },
  {
   "cell_type": "code",
   "execution_count": 18,
   "id": "98eec6e9",
   "metadata": {},
   "outputs": [],
   "source": [
    "depth_write_frames_kwargs={\n",
    "        \"codec\": \"ffv1\", #\"ffv1\",\n",
    "        \"crf\": 14,\n",
    "        \"threads\": 1,\n",
    "        \"fps\": 30,\n",
    "        \"slices\": 24,\n",
    "        \"slicecrc\": 1,\n",
    "        \"frame_size\": None,\n",
    "        \"get_cmd\": False,\n",
    "    }"
   ]
  },
  {
   "cell_type": "code",
   "execution_count": 19,
   "id": "8a104ef0",
   "metadata": {},
   "outputs": [],
   "source": [
    "color_write_frames_kwargs={\n",
    "        \"codec\": \"ffv1\", #\"h264\",\n",
    "        \"crf\": 22,\n",
    "        \"threads\": 1,\n",
    "        \"fps\": 30,\n",
    "        \"slices\": 24,\n",
    "        \"slicecrc\": 1,\n",
    "        \"frame_size\": None,\n",
    "        \"get_cmd\": False,\n",
    "    }"
   ]
  },
  {
   "cell_type": "code",
   "execution_count": 20,
   "id": "e12dadf8",
   "metadata": {},
   "outputs": [],
   "source": [
    "recording_duration = 60"
   ]
  },
  {
   "cell_type": "markdown",
   "id": "844291d0",
   "metadata": {},
   "source": [
    "### Run recording\n",
    "- TODO: catch errors in subprocess for multiple cameras"
   ]
  },
  {
   "cell_type": "code",
   "execution_count": 21,
   "id": "9a46bbd7",
   "metadata": {},
   "outputs": [],
   "source": [
    "#??start_recording"
   ]
  },
  {
   "cell_type": "code",
   "execution_count": 22,
   "id": "0dbd578a",
   "metadata": {
    "scrolled": true
   },
   "outputs": [
    {
     "data": {
      "application/vnd.jupyter.widget-view+json": {
       "model_id": "a316cd24dccb42fa9dc5a032eed87b42",
       "version_major": 2,
       "version_minor": 0
      },
      "text/plain": [
       "Top (frames written):   0%|          | 0/300 [00:00<?, ?it/s]"
      ]
     },
     "metadata": {},
     "output_type": "display_data"
    },
    {
     "data": {
      "application/vnd.jupyter.widget-view+json": {
       "model_id": "5cc5df69f0b147bb9a28f2058462797a",
       "version_major": 2,
       "version_minor": 0
      },
      "text/plain": [
       "S3 (frames written):   0%|          | 0/300 [00:00<?, ?it/s]"
      ]
     },
     "metadata": {},
     "output_type": "display_data"
    },
    {
     "name": "stdout",
     "output_type": "stream",
     "text": [
      "[2023-01-27 12:39:17.529] [error] [t=237668] /__w/1/s/extern/Azure-Kinect-Sensor-SDK/src/usbcommand/usbstreaming.c (117): usb_cmd_libusb_cb(). LibUSB transfer status of 00000002 unexpected\n",
      "[2023-01-27 12:39:17.529] [error] [t=237668] /__w/1/s/extern/Azure-Kinect-Sensor-SDK/src/usbcommand/usbstreaming.c (117): usb_cmd_libusb_cb(). LibUSB transfer status of 00000002 unexpected\n",
      "[2023-01-27 12:39:17.529] [error] [t=237668] /__w/1/s/extern/Azure-Kinect-Sensor-SDK/src/usbcommand/usbstreaming.c (117): usb_cmd_libusb_cb(). LibUSB transfer status of 00000002 unexpected\n",
      "[2023-01-27 12:39:17.529] [error] [t=237668] /__w/1/s/extern/Azure-Kinect-Sensor-SDK/src/usbcommand/usbstreaming.c (117): usb_cmd_libusb_cb(). LibUSB transfer status of 00000002 unexpected\n",
      "[2023-01-27 12:39:17.529] [error] [t=237668] /__w/1/s/extern/Azure-Kinect-Sensor-SDK/src/usbcommand/usbstreaming.c (117): usb_cmd_libusb_cb(). LibUSB transfer status of 00000002 unexpected\n",
      "[2023-01-27 12:39:17.529] [error] [t=237668] /__w/1/s/extern/Azure-Kinect-Sensor-SDK/src/usbcommand/usbstreaming.c (117): usb_cmd_libusb_cb(). LibUSB transfer status of 00000002 unexpected\n",
      "[2023-01-27 12:39:17.529] [error] [t=237668] /__w/1/s/extern/Azure-Kinect-Sensor-SDK/src/usbcommand/usbstreaming.c (117): usb_cmd_libusb_cb(). LibUSB transfer status of 00000002 unexpected\n",
      "[2023-01-27 12:39:17.529] [error] [t=237668] /__w/1/s/extern/Azure-Kinect-Sensor-SDK/src/usbcommand/usbstreaming.c (117): usb_cmd_libusb_cb(). LibUSB transfer status of 00000002 unexpected\n"
     ]
    },
    {
     "data": {
      "application/vnd.jupyter.widget-view+json": {
       "model_id": "1c9e073e861a406b837f1f07ef453122",
       "version_major": 2,
       "version_minor": 0
      },
      "text/plain": [
       "S2 (frames written):   0%|          | 0/300 [00:00<?, ?it/s]"
      ]
     },
     "metadata": {},
     "output_type": "display_data"
    },
    {
     "name": "stdout",
     "output_type": "stream",
     "text": [
      "[2023-01-27 12:39:21.298] [error] [t=237688] /__w/1/s/extern/Azure-Kinect-Sensor-SDK/src/usbcommand/usbstreaming.c (117): usb_cmd_libusb_cb(). LibUSB transfer status of 00000002 unexpected\n",
      "[2023-01-27 12:39:21.298] [error] [t=237688] /__w/1/s/extern/Azure-Kinect-Sensor-SDK/src/usbcommand/usbstreaming.c (117): usb_cmd_libusb_cb(). LibUSB transfer status of 00000002 unexpected\n",
      "[2023-01-27 12:39:21.298] [error] [t=237688] /__w/1/s/extern/Azure-Kinect-Sensor-SDK/src/usbcommand/usbstreaming.c (117): usb_cmd_libusb_cb(). LibUSB transfer status of 00000002 unexpected\n",
      "[2023-01-27 12:39:21.298] [error] [t=237688] /__w/1/s/extern/Azure-Kinect-Sensor-SDK/src/usbcommand/usbstreaming.c (117): usb_cmd_libusb_cb(). LibUSB transfer status of 00000002 unexpected\n",
      "[2023-01-27 12:39:21.298] [error] [t=237688] /__w/1/s/extern/Azure-Kinect-Sensor-SDK/src/usbcommand/usbstreaming.c (117): usb_cmd_libusb_cb(). LibUSB transfer status of 00000002 unexpected\n",
      "[2023-01-27 12:39:21.298] [error] [t=237688] /__w/1/s/extern/Azure-Kinect-Sensor-SDK/src/usbcommand/usbstreaming.c (117): usb_cmd_libusb_cb(). LibUSB transfer status of 00000002 unexpected\n",
      "[2023-01-27 12:39:21.298] [error] [t=237688] /__w/1/s/extern/Azure-Kinect-Sensor-SDK/src/usbcommand/usbstreaming.c (117): usb_cmd_libusb_cb(). LibUSB transfer status of 00000002 unexpected\n",
      "[2023-01-27 12:39:21.298] [error] [t=237688] /__w/1/s/extern/Azure-Kinect-Sensor-SDK/src/usbcommand/usbstreaming.c (117): usb_cmd_libusb_cb(). LibUSB transfer status of 00000002 unexpected\n"
     ]
    },
    {
     "data": {
      "application/vnd.jupyter.widget-view+json": {
       "model_id": "dcc09a5c992649eab7bceed7eb1a76b5",
       "version_major": 2,
       "version_minor": 0
      },
      "text/plain": [
       "Bottom (frames written):   0%|          | 0/300 [00:00<?, ?it/s]"
      ]
     },
     "metadata": {},
     "output_type": "display_data"
    },
    {
     "name": "stdout",
     "output_type": "stream",
     "text": [
      "[2023-01-27 12:39:25.201] [error] [t=237722] /__w/1/s/extern/Azure-Kinect-Sensor-SDK/src/usbcommand/usbstreaming.c (117): usb_cmd_libusb_cb(). LibUSB transfer status of 00000002 unexpected\n",
      "[2023-01-27 12:39:25.201] [error] [t=237722] /__w/1/s/extern/Azure-Kinect-Sensor-SDK/src/usbcommand/usbstreaming.c (117): usb_cmd_libusb_cb(). LibUSB transfer status of 00000002 unexpected\n",
      "[2023-01-27 12:39:25.201] [error] [t=237722] /__w/1/s/extern/Azure-Kinect-Sensor-SDK/src/usbcommand/usbstreaming.c (117): usb_cmd_libusb_cb(). LibUSB transfer status of 00000002 unexpected\n",
      "[2023-01-27 12:39:25.201] [error] [t=237722] /__w/1/s/extern/Azure-Kinect-Sensor-SDK/src/usbcommand/usbstreaming.c (117): usb_cmd_libusb_cb(). LibUSB transfer status of 00000002 unexpected\n",
      "[2023-01-27 12:39:25.201] [error] [t=237722] /__w/1/s/extern/Azure-Kinect-Sensor-SDK/src/usbcommand/usbstreaming.c (117): usb_cmd_libusb_cb(). LibUSB transfer status of 00000002 unexpected\n",
      "[2023-01-27 12:39:25.201] [error] [t=237722] /__w/1/s/extern/Azure-Kinect-Sensor-SDK/src/usbcommand/usbstreaming.c (117): usb_cmd_libusb_cb(). LibUSB transfer status of 00000002 unexpected\n",
      "[2023-01-27 12:39:25.201] [error] [t=237722] /__w/1/s/extern/Azure-Kinect-Sensor-SDK/src/usbcommand/usbstreaming.c (117): usb_cmd_libusb_cb(). LibUSB transfer status of 00000002 unexpected\n",
      "[2023-01-27 12:39:25.201] [error] [t=237722] /__w/1/s/extern/Azure-Kinect-Sensor-SDK/src/usbcommand/usbstreaming.c (117): usb_cmd_libusb_cb(). LibUSB transfer status of 00000002 unexpected\n"
     ]
    },
    {
     "data": {
      "application/vnd.jupyter.widget-view+json": {
       "model_id": "b1d236ffbaa446859120db3f5ac17022",
       "version_major": 2,
       "version_minor": 0
      },
      "text/plain": [
       "S1 (frames written):   0%|          | 0/300 [00:00<?, ?it/s]"
      ]
     },
     "metadata": {},
     "output_type": "display_data"
    },
    {
     "name": "stdout",
     "output_type": "stream",
     "text": [
      "[2023-01-27 12:39:29.110] [error] [t=237751] /__w/1/s/extern/Azure-Kinect-Sensor-SDK/src/usbcommand/usbstreaming.c (117): usb_cmd_libusb_cb(). LibUSB transfer status of 00000002 unexpected\n"
     ]
    },
    {
     "data": {
      "application/vnd.jupyter.widget-view+json": {
       "model_id": "89974f1de5ca41e9a3d2569619578ee1",
       "version_major": 2,
       "version_minor": 0
      },
      "text/plain": [
       "S4 (frames written):   0%|          | 0/300 [00:00<?, ?it/s]"
      ]
     },
     "metadata": {},
     "output_type": "display_data"
    },
    {
     "name": "stdout",
     "output_type": "stream",
     "text": [
      "[2023-01-27 12:39:31.901] [error] [t=237767] /__w/1/s/extern/Azure-Kinect-Sensor-SDK/src/usbcommand/usbstreaming.c (117): usb_cmd_libusb_cb(). LibUSB transfer status of 00000002 unexpected\n",
      "[2023-01-27 12:39:31.901] [error] [t=237767] /__w/1/s/extern/Azure-Kinect-Sensor-SDK/src/usbcommand/usbstreaming.c (117): usb_cmd_libusb_cb(). LibUSB transfer status of 00000002 unexpected\n",
      "[2023-01-27 12:39:31.901] [error] [t=237767] /__w/1/s/extern/Azure-Kinect-Sensor-SDK/src/usbcommand/usbstreaming.c (117): usb_cmd_libusb_cb(). LibUSB transfer status of 00000002 unexpected\n",
      "[2023-01-27 12:39:31.901] [error] [t=237767] /__w/1/s/extern/Azure-Kinect-Sensor-SDK/src/usbcommand/usbstreaming.c (117): usb_cmd_libusb_cb(). LibUSB transfer status of 00000002 unexpected\n",
      "[2023-01-27 12:39:31.901] [error] [t=237767] /__w/1/s/extern/Azure-Kinect-Sensor-SDK/src/usbcommand/usbstreaming.c (117): usb_cmd_libusb_cb(). LibUSB transfer status of 00000002 unexpected\n",
      "[2023-01-27 12:39:31.901] [error] [t=237767] /__w/1/s/extern/Azure-Kinect-Sensor-SDK/src/usbcommand/usbstreaming.c (117): usb_cmd_libusb_cb(). LibUSB transfer status of 00000002 unexpected\n",
      "[2023-01-27 12:39:31.901] [error] [t=237767] /__w/1/s/extern/Azure-Kinect-Sensor-SDK/src/usbcommand/usbstreaming.c (117): usb_cmd_libusb_cb(). LibUSB transfer status of 00000002 unexpected\n",
      "[2023-01-27 12:39:31.901] [error] [t=237767] /__w/1/s/extern/Azure-Kinect-Sensor-SDK/src/usbcommand/usbstreaming.c (117): usb_cmd_libusb_cb(). LibUSB transfer status of 00000002 unexpected\n"
     ]
    },
    {
     "data": {
      "application/vnd.jupyter.widget-view+json": {
       "model_id": "e1ab5059c42e4befb6b411928bdc39b5",
       "version_major": 2,
       "version_minor": 0
      },
      "text/plain": [
       "Recording (s):   0%|          | 0/10 [00:00<?, ?it/s]"
      ]
     },
     "metadata": {},
     "output_type": "display_data"
    },
    {
     "name": "stdout",
     "output_type": "stream",
     "text": [
      "capture_from_azure initialized: Top \n",
      "capture_from_azure initialized: S3 \n",
      "Dropped frame: color\n",
      "Dropped frame: ir\n",
      "Dropped frame: depth\n",
      "capture_from_azure initialized: S1 \n",
      "Dropped frame: ir\n",
      "Dropped frame: depth\n",
      "Dropped frame: ir\n",
      "Dropped frame: depth\n",
      "Dropped frame: ir\n",
      "Dropped frame: depth\n",
      "Dropped frame: ir\n",
      "Dropped frame: depth\n",
      "Dropped frame: ir\n",
      "Dropped frame: depth\n",
      " capture_from_azure initialized: S4 capture_from_azure initialized: Bottom \n",
      "\n",
      "capture_from_azure initialized: S2 \n",
      " Finished recording: 2023-01-27 12:39:43.015645\n",
      " Framerate (S3):30.2917\n",
      "Finished writing (S3): 2023-01-27 12:39:44.231251\n",
      "Framerate (Top):30.8617\n",
      "Framerate (S1):30.2856\n",
      "Finished writing (S1): 2023-01-27 12:39:44.488801\n"
     ]
    },
    {
     "name": "stderr",
     "output_type": "stream",
     "text": [
      "Process Process-2:\n",
      "Traceback (most recent call last):\n",
      "  File \"/home/dattalab/anaconda3/envs/kinect_acquisition/lib/python3.8/multiprocessing/process.py\", line 315, in _bootstrap\n",
      "    self.run()\n",
      "  File \"/home/dattalab/anaconda3/envs/kinect_acquisition/lib/python3.8/multiprocessing/process.py\", line 108, in run\n",
      "    self._target(*self._args, **self._kwargs)\n",
      "  File \"/home/dattalab/code/kinectacq/kinectacq/acquisition.py\", line 221, in capture_from_azure\n",
      "    display_process.join()\n",
      "UnboundLocalError: local variable 'display_process' referenced before assignment\n"
     ]
    },
    {
     "name": "stdout",
     "output_type": "stream",
     "text": [
      "Framerate (Bottom):30.2938\n",
      "Finished writing (Bottom): 2023-01-27 12:39:44.656231\n",
      "Framerate (S4):30.3883\n",
      "Framerate (S2):30.2894\n",
      "Finished writing (S4): 2023-01-27 12:39:44.686242\n",
      "Finished writing (S2): 2023-01-27 12:39:44.690829\n"
     ]
    },
    {
     "name": "stderr",
     "output_type": "stream",
     "text": [
      "Process Process-6:\n",
      "Traceback (most recent call last):\n",
      "  File \"/home/dattalab/anaconda3/envs/kinect_acquisition/lib/python3.8/multiprocessing/process.py\", line 315, in _bootstrap\n",
      "    self.run()\n",
      "  File \"/home/dattalab/anaconda3/envs/kinect_acquisition/lib/python3.8/multiprocessing/process.py\", line 108, in run\n",
      "    self._target(*self._args, **self._kwargs)\n",
      "  File \"/home/dattalab/code/kinectacq/kinectacq/acquisition.py\", line 221, in capture_from_azure\n",
      "    display_process.join()\n",
      "UnboundLocalError: local variable 'display_process' referenced before assignment\n"
     ]
    },
    {
     "name": "stdout",
     "output_type": "stream",
     "text": [
      "Finished writing (Top): 2023-01-27 12:39:44.813919\n"
     ]
    },
    {
     "name": "stderr",
     "output_type": "stream",
     "text": [
      "Process Process-1:\n",
      "Traceback (most recent call last):\n",
      "  File \"/home/dattalab/anaconda3/envs/kinect_acquisition/lib/python3.8/multiprocessing/process.py\", line 315, in _bootstrap\n",
      "    self.run()\n",
      "  File \"/home/dattalab/anaconda3/envs/kinect_acquisition/lib/python3.8/multiprocessing/process.py\", line 108, in run\n",
      "    self._target(*self._args, **self._kwargs)\n",
      "  File \"/home/dattalab/code/kinectacq/kinectacq/acquisition.py\", line 221, in capture_from_azure\n",
      "    display_process.join()\n",
      "UnboundLocalError: local variable 'display_process' referenced before assignment\n"
     ]
    }
   ],
   "source": [
    "start_recording(\n",
    "    filename_prefix,\n",
    "    recording_duration,\n",
    "    devices=devices,\n",
    "    depth_function = process_depth,\n",
    "    ir_function = process_ir,\n",
    "    ir_dtype = _dtype,\n",
    "    depth_dtype = _dtype,\n",
    "    ir_write_frames_kwargs=ir_write_frames_kwargs,\n",
    "    depth_write_frames_kwargs=depth_write_frames_kwargs,\n",
    "    color_write_frames_kwargs=color_write_frames_kwargs,\n",
    "    display_fcn=display_fcn\n",
    ")"
   ]
  },
  {
   "cell_type": "markdown",
   "id": "f78e2e79",
   "metadata": {},
   "source": [
    "### Read and show file"
   ]
  },
  {
   "cell_type": "code",
   "execution_count": 23,
   "id": "b5bb5064",
   "metadata": {
    "scrolled": true
   },
   "outputs": [
    {
     "ename": "ValueError",
     "evalue": "Break",
     "output_type": "error",
     "traceback": [
      "\u001b[0;31m---------------------------------------------------------------------------\u001b[0m",
      "\u001b[0;31mValueError\u001b[0m                                Traceback (most recent call last)",
      "Input \u001b[0;32mIn [23]\u001b[0m, in \u001b[0;36m<cell line: 1>\u001b[0;34m()\u001b[0m\n\u001b[0;32m----> 1\u001b[0m \u001b[38;5;28;01mraise\u001b[39;00m \u001b[38;5;167;01mValueError\u001b[39;00m(\u001b[38;5;124m'\u001b[39m\u001b[38;5;124mBreak\u001b[39m\u001b[38;5;124m'\u001b[39m)\n",
      "\u001b[0;31mValueError\u001b[0m: Break"
     ]
    }
   ],
   "source": [
    "raise ValueError('Break')"
   ]
  },
  {
   "cell_type": "code",
   "execution_count": null,
   "id": "b0d06bac",
   "metadata": {},
   "outputs": [],
   "source": [
    "filename_prefix"
   ]
  },
  {
   "cell_type": "code",
   "execution_count": null,
   "id": "1e3c98c0",
   "metadata": {},
   "outputs": [],
   "source": [
    "print('\\n'.join([i.as_posix() for i in list(filename_prefix.iterdir())]))"
   ]
  },
  {
   "cell_type": "code",
   "execution_count": null,
   "id": "989338b5",
   "metadata": {},
   "outputs": [],
   "source": [
    "print('\\n'.join([i.as_posix() for i in list((filename_prefix/'Top').iterdir())]))"
   ]
  },
  {
   "cell_type": "code",
   "execution_count": null,
   "id": "47ef16e8",
   "metadata": {},
   "outputs": [],
   "source": [
    "print('\\n'.join([i.as_posix() for i in list((filename_prefix/'Bottom').iterdir())]))"
   ]
  },
  {
   "cell_type": "code",
   "execution_count": null,
   "id": "db7f053e",
   "metadata": {},
   "outputs": [],
   "source": [
    "for name, id_ in device_name_id.items():\n",
    "    file_loc = filename_prefix / name /  \"depth.avi\"\n",
    "    vidcap = cv2.VideoCapture(file_loc.as_posix())\n",
    "    success,image = vidcap.read()\n",
    "    total_frames = vidcap.get(7)\n",
    "    print(name, total_frames, image.shape)"
   ]
  },
  {
   "cell_type": "code",
   "execution_count": null,
   "id": "9e71bb43",
   "metadata": {},
   "outputs": [],
   "source": [
    "file_loc = filename_prefix / 'Bottom' /  \"ir.avi\"\n",
    "vidcap = cv2.VideoCapture(file_loc.as_posix())\n",
    "success,image = vidcap.read()\n",
    "total_frames = vidcap.get(7)\n",
    "print(name, total_frames, image.shape)"
   ]
  },
  {
   "cell_type": "code",
   "execution_count": null,
   "id": "8c54b704",
   "metadata": {},
   "outputs": [],
   "source": [
    "image[0,0,0].dtype"
   ]
  },
  {
   "cell_type": "code",
   "execution_count": null,
   "id": "21f1a99d",
   "metadata": {},
   "outputs": [],
   "source": [
    "nbit = 16\n",
    "total_expected_bits = total_frames * np.product(image.shape) * nbit\n",
    "total_expected_MB_uncompressed = total_expected_bits * 1.192e-7 \n",
    "print('uncompressed size: {} MB'.format(round(total_expected_MB_uncompressed)))\n",
    "print('actual_size: {} MB'.format(round(os.path.getsize(file_loc) * 1e-6)))"
   ]
  },
  {
   "cell_type": "code",
   "execution_count": null,
   "id": "e442f189",
   "metadata": {},
   "outputs": [],
   "source": [
    "# get frame at number\n",
    "vidcap.set(1, 50)\n",
    "success,image = vidcap.read()"
   ]
  },
  {
   "cell_type": "code",
   "execution_count": null,
   "id": "1b2c7f07",
   "metadata": {},
   "outputs": [],
   "source": [
    "plt.hist(image.flatten())"
   ]
  },
  {
   "cell_type": "code",
   "execution_count": null,
   "id": "8db00375",
   "metadata": {
    "scrolled": false
   },
   "outputs": [],
   "source": [
    "fig, ax = plt.subplots(figsize=(10,10))\n",
    "ax.matshow(image[:,:,0])"
   ]
  },
  {
   "cell_type": "code",
   "execution_count": null,
   "id": "7e69f274",
   "metadata": {},
   "outputs": [],
   "source": [
    "image.dtype"
   ]
  },
  {
   "cell_type": "code",
   "execution_count": null,
   "id": "1e940f7c",
   "metadata": {},
   "outputs": [],
   "source": [
    "vidcap = cv2.VideoCapture(file_loc.as_posix())\n",
    "success,image = vidcap.read()\n",
    "total_frames = vidcap.get(7)\n",
    "print(total_frames, image.shape)"
   ]
  },
  {
   "cell_type": "code",
   "execution_count": null,
   "id": "f5691629",
   "metadata": {},
   "outputs": [],
   "source": [
    "nbit = 8\n",
    "total_expected_bits = total_frames * np.product(image.shape) * nbit\n",
    "total_expected_MB_uncompressed = total_expected_bits * 1.192e-7 \n",
    "print('uncompressed size: {} MB'.format(total_expected_MB_uncompressed))\n",
    "print('actual_size: {} MB'.format(os.path.getsize(file_loc) * 1e-6))"
   ]
  },
  {
   "cell_type": "code",
   "execution_count": null,
   "id": "86c85b1e",
   "metadata": {},
   "outputs": [],
   "source": [
    "success,image = vidcap.read()\n",
    "# get frame at number\n",
    "vidcap.set(1, 50)\n",
    "success,image = vidcap.read()"
   ]
  },
  {
   "cell_type": "code",
   "execution_count": null,
   "id": "08a9d19e",
   "metadata": {},
   "outputs": [],
   "source": [
    "fig, ax = plt.subplots(figsize=(10,10))\n",
    "ax.imshow(image)"
   ]
  },
  {
   "cell_type": "code",
   "execution_count": null,
   "id": "df99de31",
   "metadata": {},
   "outputs": [],
   "source": [
    "from kinectacq.video_io import read_frames\n",
    "import copy"
   ]
  },
  {
   "cell_type": "code",
   "execution_count": null,
   "id": "e7dbadf1",
   "metadata": {},
   "outputs": [],
   "source": [
    "test = np.array(read_frames(file_loc, [0], frame_size=(576,640), pixel_format='gray16'))"
   ]
  },
  {
   "cell_type": "code",
   "execution_count": null,
   "id": "636e92b3",
   "metadata": {},
   "outputs": [],
   "source": [
    "test[test > 5000] = 0"
   ]
  },
  {
   "cell_type": "code",
   "execution_count": null,
   "id": "aaa0062e",
   "metadata": {},
   "outputs": [],
   "source": [
    "test.shape"
   ]
  },
  {
   "cell_type": "code",
   "execution_count": null,
   "id": "4a792dcc",
   "metadata": {},
   "outputs": [],
   "source": [
    "plt.hist(test[0].flatten())"
   ]
  },
  {
   "cell_type": "code",
   "execution_count": null,
   "id": "d2c1cd45",
   "metadata": {},
   "outputs": [],
   "source": [
    "plt.imshow(test[0])"
   ]
  },
  {
   "cell_type": "code",
   "execution_count": null,
   "id": "e0850a70",
   "metadata": {},
   "outputs": [],
   "source": []
  }
 ],
 "metadata": {
  "kernelspec": {
   "display_name": "kinect_acquisition",
   "language": "python",
   "name": "kinect_acquisition"
  },
  "language_info": {
   "codemirror_mode": {
    "name": "ipython",
    "version": 3
   },
   "file_extension": ".py",
   "mimetype": "text/x-python",
   "name": "python",
   "nbconvert_exporter": "python",
   "pygments_lexer": "ipython3",
   "version": "3.8.13"
  }
 },
 "nbformat": 4,
 "nbformat_minor": 5
}
